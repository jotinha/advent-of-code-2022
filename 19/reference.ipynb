{
 "cells": [
  {
   "cell_type": "code",
   "execution_count": 31,
   "id": "29df4989-31eb-4c49-a8ec-42100f343aa0",
   "metadata": {},
   "outputs": [],
   "source": [
    "import re\n",
    "from collections import namedtuple\n",
    "\n",
    "from tqdm.notebook import tqdm\n",
    "import operator as op\n",
    "from functools import partial\n",
    "from typing import NamedTuple\n",
    "from functools import reduce\n",
    "mul = partial(reduce,op.mul)\n",
    "assert mul(range(2,5)) == 24\n",
    "\n",
    "def tenumerate(*args): return enumerate(tqdm(*args)) \n",
    "\n",
    "\n",
    "def flip(f):\n",
    "    def inner(a,b): return f(b,a)\n",
    "    return inner"
   ]
  },
  {
   "cell_type": "code",
   "execution_count": 32,
   "id": "12300044-6e66-4ccb-8660-ccc499e1fc16",
   "metadata": {},
   "outputs": [],
   "source": [
    "\n",
    "class Amounts(NamedTuple):\n",
    "    ore: int = 0\n",
    "    clay: int = 0\n",
    "    obsidian: int = 0\n",
    "    geode: int = 0\n",
    "    \n",
    "    def _operate(self,other, operator):\n",
    "        if isinstance(other, Amounts):\n",
    "            return Amounts(*map(operator, self, other))\n",
    "        else:\n",
    "            return Amounts(*(operator(s,other) for s in self))\n",
    "    \n",
    "    def __add__(self, other): return self._operate(other,op.add)\n",
    "    def __sub__(self, other): return self._operate(other,op.sub)\n",
    "    def __mul__(self, other): return self._operate(other,op.mul)\n",
    "    def __rsub__(self, other): return self._operate(other,flip(op.sub))\n"
   ]
  },
  {
   "cell_type": "code",
   "execution_count": 8,
   "id": "72fd72b8-63ea-4699-b376-29a9fb215d80",
   "metadata": {},
   "outputs": [],
   "source": [
    "BP = namedtuple(\"Blueprint\", \"ore,clay,obsidian,geode\")"
   ]
  },
  {
   "cell_type": "code",
   "execution_count": 73,
   "id": "a496c133-0be0-4772-a43b-670b80f4f750",
   "metadata": {},
   "outputs": [],
   "source": [
    "def parse(fname):\n",
    "    for line in open(fname):\n",
    "        if line.strip():\n",
    "            _,*ns= re.findall('[0-9]+', line)\n",
    "            ns = map(int,ns)\n",
    "            yield BP(ore=Amounts(ore=next(ns)), \n",
    "                               clay=Amounts(ore=next(ns)),\n",
    "                               obsidian=Amounts(ore=next(ns),clay=next(ns)),\n",
    "                                geode=Amounts(ore=next(ns),obsidian=next(ns)))\n",
    "            \n",
    "bps = list(parse(\"input\"))"
   ]
  },
  {
   "cell_type": "code",
   "execution_count": 10,
   "id": "a4f6e814-ff47-4dca-84c9-dceb2d4f3d7f",
   "metadata": {},
   "outputs": [],
   "source": [
    "def evaluate(moves: list, bp: BP, t=24):\n",
    "    minerals = Amounts()\n",
    "    robots = Amounts(ore=1)\n",
    "    breakpoint()\n",
    "    while t > 0:\n",
    "        #build robots\n",
    "        move = moves.pop(0) if len(moves) > 0 else None\n",
    "        if move:\n",
    "            for i in range(4):\n",
    "                minerals = minerals - bp[i]*move[i]\n",
    "            \n",
    "            if any(m < 0 for m in minerals):\n",
    "                raise ValueError(minerals)\n",
    "            \n",
    "            new_robots = robots + move\n",
    "            \n",
    "        #collect\n",
    "        minerals = minerals + robots\n",
    "        \n",
    "        #complete robots\n",
    "        if move:\n",
    "            robots = new_robots\n",
    "        \n",
    "        print(24-t+1,minerals)\n",
    "        t-=1\n",
    "    return minerals\n",
    "\n",
    "moves=[\n",
    "    None,None,Amounts(clay=1),\n",
    "    None,Amounts(clay=1),None,\n",
    "    Amounts(clay=1),None,None,\n",
    "    None,Amounts(obsidian=1),Amounts(clay=1),\n",
    "    None,None,Amounts(obsidian=1),\n",
    "    None,None,Amounts(geode=1),\n",
    "    None,None,Amounts(geode=1),\n",
    "    None,None,None\n",
    "]\n",
    "#evaluate(moves,bps[0])"
   ]
  },
  {
   "cell_type": "code",
   "execution_count": 11,
   "id": "0fa74d4a-6313-4d2c-b461-b7aad84d3f1c",
   "metadata": {},
   "outputs": [],
   "source": [
    "def minerals_spent_building_robots(robots, bp):\n",
    "    minerals = Amounts()\n",
    "    for i in range(4):\n",
    "        minerals = minerals + bp[i]*robots[i]   \n",
    "    return minerals\n",
    "\n",
    "def can_build_robots(robots, minerals, bp):\n",
    "    minerals = minerals - minerals_spent_building_robots(robots,bp)\n",
    "    return all(m >= 0 for m in minerals)\n"
   ]
  },
  {
   "cell_type": "code",
   "execution_count": 63,
   "id": "c44b1578-e3d3-4e19-83cd-8d74b2cb6764",
   "metadata": {},
   "outputs": [
    {
     "data": {
      "text/plain": [
       "Blueprint(ore=Amounts(ore=4, clay=0, obsidian=0, geode=0), clay=Amounts(ore=2, clay=0, obsidian=0, geode=0), obsidian=Amounts(ore=3, clay=14, obsidian=0, geode=0), geode=Amounts(ore=2, clay=0, obsidian=7, geode=0))"
      ]
     },
     "execution_count": 63,
     "metadata": {},
     "output_type": "execute_result"
    }
   ],
   "source": [
    "bps[0]"
   ]
  },
  {
   "cell_type": "code",
   "execution_count": 65,
   "id": "2a3d8ec7-f51d-4c6c-9abe-9f70c23b0943",
   "metadata": {},
   "outputs": [
    {
     "data": {
      "text/plain": [
       "0"
      ]
     },
     "execution_count": 65,
     "metadata": {},
     "output_type": "execute_result"
    }
   ],
   "source": [
    "max(r[3] for r in bps[0])"
   ]
  },
  {
   "cell_type": "code",
   "execution_count": 66,
   "id": "2f3744e2-4592-4c7f-b576-7c2ed7b282ec",
   "metadata": {},
   "outputs": [
    {
     "data": {
      "text/plain": [
       "[Amounts(ore=0, clay=1, obsidian=0, geode=0)]"
      ]
     },
     "execution_count": 66,
     "metadata": {},
     "output_type": "execute_result"
    }
   ],
   "source": [
    "def valid_moves(robots, minerals, bp):    \n",
    "    # just moves of one robot at a time for now\n",
    "    for i in range(4):\n",
    "        robot = [0,0,0,0]\n",
    "        robot[i] = 1\n",
    "        robot = Amounts(*robot)\n",
    "        if can_build_robots(robot, minerals, bp):\n",
    "            yield robot\n",
    "\n",
    "def useful_moves(robots, minerals, bp):\n",
    "    for move in valid_moves(robots, minerals, bp):\n",
    "        if is_useful_move(move, robots, minerals, bp):\n",
    "            yield move\n",
    "\n",
    "def is_useful_move(move, robots, minerals, bp):\n",
    "    # once we have enough robot of a kind to reharvest this mineral lost in any move, don't make more robots of that type\n",
    "    for i in range(3): # don't do this condition on geode, that we want to keep harvesting\n",
    "        if move[i] > 0:\n",
    "            max_of_this_mineral_we_can_spend_in_a_move = max(r[i] for r in bp)\n",
    "            if robots[i] >= max_of_this_mineral_we_can_spend_in_a_move:\n",
    "                return False\n",
    "    return True\n",
    "            \n",
    "list(valid_moves(Amounts(), Amounts(2),bps[0]))"
   ]
  },
  {
   "cell_type": "code",
   "execution_count": 80,
   "id": "f497e161-5767-46d4-9169-daa139132892",
   "metadata": {},
   "outputs": [
    {
     "ename": "AssertionError",
     "evalue": "",
     "output_type": "error",
     "traceback": [
      "\u001b[0;31m---------------------------------------------------------------------------\u001b[0m",
      "\u001b[0;31mAssertionError\u001b[0m                            Traceback (most recent call last)",
      "Cell \u001b[0;32mIn[80], line 31\u001b[0m\n\u001b[1;32m     29\u001b[0m \u001b[38;5;28;01mdef\u001b[39;00m \u001b[38;5;21msum_range_to\u001b[39m(n):\n\u001b[1;32m     30\u001b[0m     \u001b[38;5;28;01mreturn\u001b[39;00m n\u001b[38;5;241m*\u001b[39m(n\u001b[38;5;241m+\u001b[39m\u001b[38;5;241m1\u001b[39m)\u001b[38;5;241m/\u001b[39m\u001b[38;5;241m/\u001b[39m\u001b[38;5;241m2\u001b[39m\n\u001b[0;32m---> 31\u001b[0m \u001b[38;5;28;01massert\u001b[39;00m sum_range_to(\u001b[38;5;241m10\u001b[39m) \u001b[38;5;241m==\u001b[39m \u001b[38;5;28msum\u001b[39m(\u001b[38;5;28mrange\u001b[39m(\u001b[38;5;241m11\u001b[39m)) \u001b[38;5;241m==\u001b[39m \u001b[38;5;241m10\u001b[39m\u001b[38;5;241m*\u001b[39m\u001b[38;5;241m9\u001b[39m\u001b[38;5;241m/\u001b[39m\u001b[38;5;241m/\u001b[39m\u001b[38;5;241m2\u001b[39m\n\u001b[1;32m     33\u001b[0m upper_bound \u001b[38;5;241m=\u001b[39m upper_bound_2\n",
      "\u001b[0;31mAssertionError\u001b[0m: "
     ]
    }
   ],
   "source": [
    "from math import ceil\n",
    "\n",
    "def lower_bound(robots, minerals, bp, time_left):\n",
    "    return minerals.geode + robots.geode*time_left\n",
    "\n",
    "def upper_bound_1(robots, minerals, bp, time_left):\n",
    "    # assuming we can build one geode robot per round until time_left given infinite resources\n",
    "    # minerals.geode + robots.geode*time_left + (time_left-1) + (time_left-2) + (time_left -2) + ...\n",
    "    # the series sum(i for i in range(m)) can be simplified to (m-1)*m/2)\n",
    "    return minerals.geode + robots.geode*time_left + (time_left)*(time_left-1)//2\n",
    "\n",
    "def upper_bound_2(robots, minerals, bp, time_left):\n",
    "    ub = upper_bound_1(robots, minerals, bp, time_left)\n",
    "    \n",
    "    # unlike upper_bound_1, we don't assume infinite resources to build geode robots. We have to take\n",
    "    # into account how much obsidian we can harevest (now assuming infinite resources to build obsidian bots)\n",
    "    max_obsidian = minerals.obsidian + robots.obsidian * time_left + (time_left)*(time_left-1)//2\n",
    "    \n",
    "    # given that we have this max obsidian, the number of geode robots we can harvest may be smaller\n",
    "    max_geode_robots = ceil(max_obsidian / bp.geode.obsidian) \n",
    "    \n",
    "    # now, instead of computing the sum of the series time_left -> 0, we compute the sum \n",
    "    # from time_left -> (time_left - max_geode_robots)\n",
    "    if max_geode_robots < time_left:\n",
    "        ub = ub - (time_left - max_geode_robots)*(time_left-max_geode_robots+1) // 2\n",
    "        \n",
    "    return ub\n",
    "\n",
    "def sum_range_to(n):\n",
    "    return n*(n+1)//2\n",
    "\n",
    "upper_bound = upper_bound_2"
   ]
  },
  {
   "cell_type": "code",
   "execution_count": 82,
   "id": "e4f2eef3-7ad9-4d5d-8d1f-19c20923eaed",
   "metadata": {},
   "outputs": [
    {
     "data": {
      "text/plain": [
       "55"
      ]
     },
     "execution_count": 82,
     "metadata": {},
     "output_type": "execute_result"
    }
   ],
   "source": []
  },
  {
   "cell_type": "code",
   "execution_count": 68,
   "id": "d6ce64f7-51c5-48fe-82c3-35cfe394c86b",
   "metadata": {},
   "outputs": [],
   "source": []
  },
  {
   "cell_type": "code",
   "execution_count": 76,
   "id": "e503381d-ebdf-4c44-8c0e-bcb3fac8d1ab",
   "metadata": {},
   "outputs": [
    {
     "ename": "SyntaxError",
     "evalue": "EOL while scanning string literal (3895727705.py, line 44)",
     "output_type": "error",
     "traceback": [
      "\u001b[0;36m  Cell \u001b[0;32mIn[76], line 44\u001b[0;36m\u001b[0m\n\u001b[0;31m    print(f\"Got best result in {it} iterations)\u001b[0m\n\u001b[0m                                               ^\u001b[0m\n\u001b[0;31mSyntaxError\u001b[0m\u001b[0;31m:\u001b[0m EOL while scanning string literal\n"
     ]
    }
   ],
   "source": [
    "from collections import deque\n",
    "\n",
    "def solve(bp: BP, t=24):\n",
    "\n",
    "    best = 0\n",
    "    # state is a tuple of (robots, minerals, time_left)\n",
    "    todo = deque([(Amounts(ore=1), Amounts(), t)])\n",
    "    visited = {}    \n",
    "    state = None\n",
    "    it = 0\n",
    "    while todo:\n",
    "        it += 1\n",
    "        robots, minerals, time_left = state = todo.pop()\n",
    "        \n",
    "        lb = lower_bound(robots, minerals, bp, time_left)\n",
    "            \n",
    "        best = max(best, lb)\n",
    "        \n",
    "        vs = (robots, minerals)\n",
    "        if visited.get(vs,0) >= time_left:\n",
    "            continue\n",
    "        else:\n",
    "            visited[vs] = time_left\n",
    "            \n",
    "        if (it % 100_000 == 0): print(it, len(todo), len(visited), time_left, best)\n",
    "\n",
    "        if time_left == 0:\n",
    "            continue\n",
    "         \n",
    "        if upper_bound(robots, minerals, bp, time_left) <= best:\n",
    "            continue\n",
    "        \n",
    "        # add the do nothing move\n",
    "        todo.append((robots, minerals + robots, time_left - 1))\n",
    "        \n",
    "        for move in useful_moves(robots, minerals, bp):\n",
    "            new_state = (\n",
    "                robots + move,\n",
    "                minerals - minerals_spent_building_robots(move, bp) + robots,\n",
    "                time_left - 1\n",
    "            )\n",
    "            todo.append(new_state)\n",
    "\n",
    "    print(f\"Got best result in {it} iterations)\n",
    "    return best"
   ]
  },
  {
   "cell_type": "code",
   "execution_count": 71,
   "id": "eeb8093a-8e50-4084-8ffc-b37962f6b004",
   "metadata": {},
   "outputs": [
    {
     "name": "stdout",
     "output_type": "stream",
     "text": [
      "100000 19 67658 6 9\n",
      "CPU times: user 4.38 s, sys: 10.6 ms, total: 4.39 s\n",
      "Wall time: 4.39 s\n"
     ]
    },
    {
     "data": {
      "text/plain": [
       "9"
      ]
     },
     "execution_count": 71,
     "metadata": {},
     "output_type": "execute_result"
    }
   ],
   "source": [
    "%time solve(bps[0])"
   ]
  },
  {
   "cell_type": "code",
   "execution_count": 75,
   "id": "4a6e5f46-fac1-4c0b-b0c2-919f146c5418",
   "metadata": {},
   "outputs": [
    {
     "data": {
      "application/vnd.jupyter.widget-view+json": {
       "model_id": "9b692e258c2c4d26bd98545bfe067847",
       "version_major": 2,
       "version_minor": 0
      },
      "text/plain": [
       "  0%|          | 0/30 [00:00<?, ?it/s]"
      ]
     },
     "metadata": {},
     "output_type": "display_data"
    },
    {
     "name": "stdout",
     "output_type": "stream",
     "text": [
      "100000 13 56811 6 5\n",
      "100000 15 65300 5 5\n",
      "200000 10 101557 6 9\n",
      "100000 14 58707 6 2\n",
      "300000 24 130050 3 3\n",
      "400000 20 165238 4 4\n",
      "100000 14 61419 4 2\n",
      "200000 13 106562 3 2\n",
      "100000 16 70016 6 8\n",
      "200000 7 118329 7 10\n",
      "100000 5 62408 9 1\n",
      "100000 18 59319 2 1\n",
      "100000 17 66135 4 2\n",
      "200000 14 116874 7 2\n",
      "300000 15 164962 6 2\n",
      "100000 8 60590 5 0\n",
      "100000 9 64037 6 1\n",
      "200000 10 111304 6 1\n",
      "100000 14 66184 6 5\n",
      "200000 17 113665 3 6\n",
      "100000 14 66553 7 8\n",
      "100000 12 63775 6 5\n",
      "200000 18 120709 2 1\n",
      "100000 5 64293 12 0\n",
      "100000 29 63077 1 0\n",
      "200000 17 117214 6 7\n",
      "100000 20 59262 3 1\n"
     ]
    }
   ],
   "source": [
    "ans1 = sum((i+1)*solve(bp) for i,bp in tenumerate(bps))"
   ]
  },
  {
   "cell_type": "code",
   "execution_count": 77,
   "id": "6ee3d852-b8a3-47bf-a7c9-bf135fac41aa",
   "metadata": {},
   "outputs": [
    {
     "data": {
      "text/plain": [
       "1150"
      ]
     },
     "execution_count": 77,
     "metadata": {},
     "output_type": "execute_result"
    }
   ],
   "source": [
    "ans1"
   ]
  },
  {
   "cell_type": "code",
   "execution_count": 78,
   "id": "06da2ddf-319c-404f-a13c-6850224e9d59",
   "metadata": {},
   "outputs": [
    {
     "data": {
      "application/vnd.jupyter.widget-view+json": {
       "model_id": "7024bf6255f643068c65583969eb9953",
       "version_major": 2,
       "version_minor": 0
      },
      "text/plain": [
       "  0%|          | 0/3 [00:00<?, ?it/s]"
      ]
     },
     "metadata": {},
     "output_type": "display_data"
    },
    {
     "name": "stdout",
     "output_type": "stream",
     "text": [
      "100000 16 73572 6 5\n",
      "300000 13 187054 6 5\n",
      "400000 17 233507 7 6\n",
      "500000 19 273914 4 6\n",
      "700000 12 347013 10 6\n",
      "900000 30 429481 3 6\n",
      "1000000 15 470630 7 6\n",
      "1300000 31 591755 4 8\n",
      "1800000 28 697881 4 8\n",
      "1900000 15 728021 7 8\n",
      "2000000 20 750865 5 8\n",
      "2100000 10 769921 8 8\n",
      "2300000 25 837427 7 8\n",
      "2500000 25 903580 6 9\n",
      "2600000 12 930242 9 9\n",
      "2800000 19 996802 8 9\n",
      "2900000 33 1024360 5 9\n",
      "3000000 31 1050890 3 9\n",
      "3300000 16 1134597 12 11\n",
      "100000 24 86687 9 56\n",
      "200000 25 165327 9 56\n",
      "300000 24 234978 9 59\n",
      "400000 23 299838 10 61\n",
      "500000 19 365213 13 61\n",
      "800000 17 538540 11 63\n",
      "900000 21 580240 10 69\n",
      "1000000 10 604333 14 69\n",
      "1100000 15 638650 16 79\n",
      "100000 15 88387 8 34\n",
      "400000 14 300840 8 34\n",
      "500000 22 372337 8 34\n",
      "800000 9 554110 8 34\n",
      "1200000 25 781094 7 36\n",
      "1300000 28 823881 5 36\n",
      "1400000 15 858033 10 36\n",
      "1600000 21 944216 7 36\n",
      "1700000 25 993490 8 36\n",
      "1900000 28 1082037 7 43\n",
      "2000000 20 1113607 8 43\n",
      "2300000 34 1183354 7 43\n",
      "2400000 14 1215121 10 43\n",
      "2500000 17 1248190 8 43\n",
      "2600000 17 1285028 11 43\n",
      "2700000 24 1339181 9 43\n",
      "2800000 14 1374248 9 43\n"
     ]
    },
    {
     "data": {
      "text/plain": [
       "37367"
      ]
     },
     "execution_count": 78,
     "metadata": {},
     "output_type": "execute_result"
    }
   ],
   "source": [
    "ans2 = mul(solve(bp,t=32) for i,bp in tenumerate(bps[:3]))\n",
    "ans2"
   ]
  }
 ],
 "metadata": {
  "kernelspec": {
   "display_name": "Python 3 (ipykernel)",
   "language": "python",
   "name": "python3"
  },
  "language_info": {
   "codemirror_mode": {
    "name": "ipython",
    "version": 3
   },
   "file_extension": ".py",
   "mimetype": "text/x-python",
   "name": "python",
   "nbconvert_exporter": "python",
   "pygments_lexer": "ipython3",
   "version": "3.8.15"
  }
 },
 "nbformat": 4,
 "nbformat_minor": 5
}
