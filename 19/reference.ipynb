{
 "cells": [
  {
   "cell_type": "code",
   "execution_count": 31,
   "id": "29df4989-31eb-4c49-a8ec-42100f343aa0",
   "metadata": {},
   "outputs": [],
   "source": [
    "import re\n",
    "from collections import namedtuple"
   ]
  },
  {
   "cell_type": "code",
   "execution_count": 32,
   "id": "188b2fc8-efc9-4a8e-ad13-76efac052a80",
   "metadata": {},
   "outputs": [],
   "source": [
    "from typing import NamedTuple"
   ]
  },
  {
   "cell_type": "code",
   "execution_count": 33,
   "id": "12300044-6e66-4ccb-8660-ccc499e1fc16",
   "metadata": {},
   "outputs": [],
   "source": [
    "import operator as op\n",
    "from functools import partial\n",
    "\n",
    "class Amounts(NamedTuple):\n",
    "    ore: int = 0\n",
    "    clay: int = 0\n",
    "    obsidian: int = 0\n",
    "    geode: int = 0\n",
    "    \n",
    "    def __add__(self, other: \"Amounts\"): return Amounts(*map(op.add,self,other))\n",
    "    def __sub__(self, other: \"Amounts\"): return Amounts(*map(op.sub,self,other))\n",
    "    def __mul__(self, other):\n",
    "        if isinstance(other, Amounts):\n",
    "            return Amounts(*map(op.mul,self,other))\n",
    "        else:\n",
    "            return Amounts(*map(partial(op.mul,other),self))\n",
    "            \n"
   ]
  },
  {
   "cell_type": "code",
   "execution_count": 34,
   "id": "72fd72b8-63ea-4699-b376-29a9fb215d80",
   "metadata": {},
   "outputs": [],
   "source": [
    "BP = namedtuple(\"Blueprint\", \"ore,clay,obsidian,geode\")"
   ]
  },
  {
   "cell_type": "code",
   "execution_count": 103,
   "id": "a496c133-0be0-4772-a43b-670b80f4f750",
   "metadata": {},
   "outputs": [
    {
     "data": {
      "text/plain": [
       "[Blueprint(ore=Amounts(ore=4, clay=0, obsidian=0, geode=0), clay=Amounts(ore=4, clay=0, obsidian=0, geode=0), obsidian=Amounts(ore=4, clay=14, obsidian=0, geode=0), geode=Amounts(ore=2, clay=0, obsidian=16, geode=0)),\n",
       " Blueprint(ore=Amounts(ore=2, clay=0, obsidian=0, geode=0), clay=Amounts(ore=2, clay=0, obsidian=0, geode=0), obsidian=Amounts(ore=2, clay=15, obsidian=0, geode=0), geode=Amounts(ore=2, clay=0, obsidian=7, geode=0)),\n",
       " Blueprint(ore=Amounts(ore=4, clay=0, obsidian=0, geode=0), clay=Amounts(ore=3, clay=0, obsidian=0, geode=0), obsidian=Amounts(ore=2, clay=14, obsidian=0, geode=0), geode=Amounts(ore=2, clay=0, obsidian=7, geode=0)),\n",
       " Blueprint(ore=Amounts(ore=4, clay=0, obsidian=0, geode=0), clay=Amounts(ore=3, clay=0, obsidian=0, geode=0), obsidian=Amounts(ore=2, clay=17, obsidian=0, geode=0), geode=Amounts(ore=3, clay=0, obsidian=16, geode=0)),\n",
       " Blueprint(ore=Amounts(ore=2, clay=0, obsidian=0, geode=0), clay=Amounts(ore=2, clay=0, obsidian=0, geode=0), obsidian=Amounts(ore=2, clay=17, obsidian=0, geode=0), geode=Amounts(ore=2, clay=0, obsidian=10, geode=0)),\n",
       " Blueprint(ore=Amounts(ore=3, clay=0, obsidian=0, geode=0), clay=Amounts(ore=3, clay=0, obsidian=0, geode=0), obsidian=Amounts(ore=3, clay=17, obsidian=0, geode=0), geode=Amounts(ore=4, clay=0, obsidian=8, geode=0)),\n",
       " Blueprint(ore=Amounts(ore=4, clay=0, obsidian=0, geode=0), clay=Amounts(ore=4, clay=0, obsidian=0, geode=0), obsidian=Amounts(ore=4, clay=9, obsidian=0, geode=0), geode=Amounts(ore=2, clay=0, obsidian=20, geode=0)),\n",
       " Blueprint(ore=Amounts(ore=3, clay=0, obsidian=0, geode=0), clay=Amounts(ore=4, clay=0, obsidian=0, geode=0), obsidian=Amounts(ore=3, clay=20, obsidian=0, geode=0), geode=Amounts(ore=3, clay=0, obsidian=14, geode=0)),\n",
       " Blueprint(ore=Amounts(ore=3, clay=0, obsidian=0, geode=0), clay=Amounts(ore=3, clay=0, obsidian=0, geode=0), obsidian=Amounts(ore=2, clay=20, obsidian=0, geode=0), geode=Amounts(ore=3, clay=0, obsidian=18, geode=0)),\n",
       " Blueprint(ore=Amounts(ore=4, clay=0, obsidian=0, geode=0), clay=Amounts(ore=4, clay=0, obsidian=0, geode=0), obsidian=Amounts(ore=2, clay=16, obsidian=0, geode=0), geode=Amounts(ore=4, clay=0, obsidian=16, geode=0)),\n",
       " Blueprint(ore=Amounts(ore=4, clay=0, obsidian=0, geode=0), clay=Amounts(ore=4, clay=0, obsidian=0, geode=0), obsidian=Amounts(ore=4, clay=5, obsidian=0, geode=0), geode=Amounts(ore=3, clay=0, obsidian=15, geode=0)),\n",
       " Blueprint(ore=Amounts(ore=2, clay=0, obsidian=0, geode=0), clay=Amounts(ore=3, clay=0, obsidian=0, geode=0), obsidian=Amounts(ore=2, clay=14, obsidian=0, geode=0), geode=Amounts(ore=3, clay=0, obsidian=8, geode=0)),\n",
       " Blueprint(ore=Amounts(ore=2, clay=0, obsidian=0, geode=0), clay=Amounts(ore=4, clay=0, obsidian=0, geode=0), obsidian=Amounts(ore=2, clay=20, obsidian=0, geode=0), geode=Amounts(ore=2, clay=0, obsidian=17, geode=0)),\n",
       " Blueprint(ore=Amounts(ore=4, clay=0, obsidian=0, geode=0), clay=Amounts(ore=3, clay=0, obsidian=0, geode=0), obsidian=Amounts(ore=2, clay=19, obsidian=0, geode=0), geode=Amounts(ore=3, clay=0, obsidian=10, geode=0)),\n",
       " Blueprint(ore=Amounts(ore=4, clay=0, obsidian=0, geode=0), clay=Amounts(ore=4, clay=0, obsidian=0, geode=0), obsidian=Amounts(ore=4, clay=17, obsidian=0, geode=0), geode=Amounts(ore=4, clay=0, obsidian=20, geode=0)),\n",
       " Blueprint(ore=Amounts(ore=2, clay=0, obsidian=0, geode=0), clay=Amounts(ore=3, clay=0, obsidian=0, geode=0), obsidian=Amounts(ore=2, clay=14, obsidian=0, geode=0), geode=Amounts(ore=3, clay=0, obsidian=20, geode=0)),\n",
       " Blueprint(ore=Amounts(ore=4, clay=0, obsidian=0, geode=0), clay=Amounts(ore=4, clay=0, obsidian=0, geode=0), obsidian=Amounts(ore=2, clay=12, obsidian=0, geode=0), geode=Amounts(ore=3, clay=0, obsidian=15, geode=0)),\n",
       " Blueprint(ore=Amounts(ore=4, clay=0, obsidian=0, geode=0), clay=Amounts(ore=3, clay=0, obsidian=0, geode=0), obsidian=Amounts(ore=2, clay=19, obsidian=0, geode=0), geode=Amounts(ore=3, clay=0, obsidian=13, geode=0)),\n",
       " Blueprint(ore=Amounts(ore=2, clay=0, obsidian=0, geode=0), clay=Amounts(ore=3, clay=0, obsidian=0, geode=0), obsidian=Amounts(ore=3, clay=18, obsidian=0, geode=0), geode=Amounts(ore=2, clay=0, obsidian=19, geode=0)),\n",
       " Blueprint(ore=Amounts(ore=2, clay=0, obsidian=0, geode=0), clay=Amounts(ore=4, clay=0, obsidian=0, geode=0), obsidian=Amounts(ore=2, clay=16, obsidian=0, geode=0), geode=Amounts(ore=2, clay=0, obsidian=9, geode=0)),\n",
       " Blueprint(ore=Amounts(ore=3, clay=0, obsidian=0, geode=0), clay=Amounts(ore=3, clay=0, obsidian=0, geode=0), obsidian=Amounts(ore=2, clay=20, obsidian=0, geode=0), geode=Amounts(ore=2, clay=0, obsidian=20, geode=0)),\n",
       " Blueprint(ore=Amounts(ore=3, clay=0, obsidian=0, geode=0), clay=Amounts(ore=3, clay=0, obsidian=0, geode=0), obsidian=Amounts(ore=3, clay=6, obsidian=0, geode=0), geode=Amounts(ore=2, clay=0, obsidian=16, geode=0)),\n",
       " Blueprint(ore=Amounts(ore=3, clay=0, obsidian=0, geode=0), clay=Amounts(ore=4, clay=0, obsidian=0, geode=0), obsidian=Amounts(ore=3, clay=6, obsidian=0, geode=0), geode=Amounts(ore=4, clay=0, obsidian=11, geode=0)),\n",
       " Blueprint(ore=Amounts(ore=4, clay=0, obsidian=0, geode=0), clay=Amounts(ore=4, clay=0, obsidian=0, geode=0), obsidian=Amounts(ore=4, clay=5, obsidian=0, geode=0), geode=Amounts(ore=2, clay=0, obsidian=10, geode=0)),\n",
       " Blueprint(ore=Amounts(ore=3, clay=0, obsidian=0, geode=0), clay=Amounts(ore=4, clay=0, obsidian=0, geode=0), obsidian=Amounts(ore=2, clay=14, obsidian=0, geode=0), geode=Amounts(ore=3, clay=0, obsidian=14, geode=0)),\n",
       " Blueprint(ore=Amounts(ore=3, clay=0, obsidian=0, geode=0), clay=Amounts(ore=4, clay=0, obsidian=0, geode=0), obsidian=Amounts(ore=3, clay=15, obsidian=0, geode=0), geode=Amounts(ore=4, clay=0, obsidian=16, geode=0)),\n",
       " Blueprint(ore=Amounts(ore=4, clay=0, obsidian=0, geode=0), clay=Amounts(ore=3, clay=0, obsidian=0, geode=0), obsidian=Amounts(ore=4, clay=18, obsidian=0, geode=0), geode=Amounts(ore=4, clay=0, obsidian=11, geode=0)),\n",
       " Blueprint(ore=Amounts(ore=4, clay=0, obsidian=0, geode=0), clay=Amounts(ore=3, clay=0, obsidian=0, geode=0), obsidian=Amounts(ore=3, clay=14, obsidian=0, geode=0), geode=Amounts(ore=4, clay=0, obsidian=17, geode=0)),\n",
       " Blueprint(ore=Amounts(ore=2, clay=0, obsidian=0, geode=0), clay=Amounts(ore=3, clay=0, obsidian=0, geode=0), obsidian=Amounts(ore=3, clay=11, obsidian=0, geode=0), geode=Amounts(ore=3, clay=0, obsidian=14, geode=0)),\n",
       " Blueprint(ore=Amounts(ore=4, clay=0, obsidian=0, geode=0), clay=Amounts(ore=4, clay=0, obsidian=0, geode=0), obsidian=Amounts(ore=4, clay=8, obsidian=0, geode=0), geode=Amounts(ore=4, clay=0, obsidian=14, geode=0))]"
      ]
     },
     "execution_count": 103,
     "metadata": {},
     "output_type": "execute_result"
    }
   ],
   "source": [
    "def parse(fname):\n",
    "    for line in open(fname):\n",
    "        if line.strip():\n",
    "            _,*ns= re.findall('[0-9]+', line)\n",
    "            ns = map(int,ns)\n",
    "            yield BP(ore=Amounts(ore=next(ns)), \n",
    "                               clay=Amounts(ore=next(ns)),\n",
    "                               obsidian=Amounts(ore=next(ns),clay=next(ns)),\n",
    "                                geode=Amounts(ore=next(ns),obsidian=next(ns)))\n",
    "            \n",
    "bps = list(parse(\"input\"))\n",
    "bps"
   ]
  },
  {
   "cell_type": "code",
   "execution_count": 95,
   "id": "a4f6e814-ff47-4dca-84c9-dceb2d4f3d7f",
   "metadata": {},
   "outputs": [],
   "source": [
    "def evaluate(moves: list, bp: BP, t=24):\n",
    "    minerals = Amounts()\n",
    "    robots = Amounts(ore=1)\n",
    "    breakpoint()\n",
    "    while t > 0:\n",
    "        #build robots\n",
    "        move = moves.pop(0) if len(moves) > 0 else None\n",
    "        if move:\n",
    "            for i in range(4):\n",
    "                minerals = minerals - bp[i]*move[i]\n",
    "            \n",
    "            if any(m < 0 for m in minerals):\n",
    "                raise ValueError(minerals)\n",
    "            \n",
    "            new_robots = robots + move\n",
    "            \n",
    "        #collect\n",
    "        minerals = minerals + robots\n",
    "        \n",
    "        #complete robots\n",
    "        if move:\n",
    "            robots = new_robots\n",
    "        \n",
    "        print(24-t+1,minerals)\n",
    "        t-=1\n",
    "    return minerals\n",
    "\n",
    "moves=[\n",
    "    None,None,Amounts(clay=1),\n",
    "    None,Amounts(clay=1),None,\n",
    "    Amounts(clay=1),None,None,\n",
    "    None,Amounts(obsidian=1),Amounts(clay=1),\n",
    "    None,None,Amounts(obsidian=1),\n",
    "    None,None,Amounts(geode=1),\n",
    "    None,None,Amounts(geode=1),\n",
    "    None,None,None\n",
    "]\n",
    "#evaluate(moves,bps[0])"
   ]
  },
  {
   "cell_type": "code",
   "execution_count": 96,
   "id": "0fa74d4a-6313-4d2c-b461-b7aad84d3f1c",
   "metadata": {},
   "outputs": [],
   "source": [
    "def minerals_spent_building_robots(robots, bp):\n",
    "    minerals = Amounts()\n",
    "    for i in range(4):\n",
    "        minerals = minerals + bp[i]*robots[i]   \n",
    "    return minerals\n",
    "\n",
    "def can_build_robots(robots, minerals, bp):\n",
    "    minerals = minerals - minerals_spent_building_robots(robots,bp)\n",
    "    return all(m >= 0 for m in minerals)\n"
   ]
  },
  {
   "cell_type": "code",
   "execution_count": 97,
   "id": "2f3744e2-4592-4c7f-b576-7c2ed7b282ec",
   "metadata": {},
   "outputs": [
    {
     "data": {
      "text/plain": [
       "[[0, 1, 0, 0]]"
      ]
     },
     "execution_count": 97,
     "metadata": {},
     "output_type": "execute_result"
    }
   ],
   "source": [
    "\n",
    "def valid_moves(robots, minerals, bp):    \n",
    "    # just moves of one robot at a time for now\n",
    "    for i in range(4):\n",
    "        robot = [0,0,0,0]\n",
    "        robot[i] = 1\n",
    "        if can_build_robots(Amounts(*robot), minerals, bp):\n",
    "            yield robot\n",
    "\n",
    "list(valid_moves(Amounts(), Amounts(2),bps[0]))"
   ]
  },
  {
   "cell_type": "code",
   "execution_count": 98,
   "id": "f497e161-5767-46d4-9169-daa139132892",
   "metadata": {},
   "outputs": [],
   "source": [
    "from math import ceil\n",
    "\n",
    "def lower_bound(robots, minerals, bp, time_left):\n",
    "    return minerals.geode + robots.geode*time_left\n",
    "\n",
    "def upper_bound_1(robots, minerals, bp, time_left):\n",
    "    # assuming we can build one geode robot per round until time_left given infinite resources\n",
    "    # minerals.geode + robots.geode*time_left + (time_left-1) + (time_left-2) + (time_left -2) + ...\n",
    "    # the series sum(i for i in range(m)) can be simplified to (m-1)*m/2)\n",
    "    return minerals.geode + robots.geode*time_left + (time_left)*(time_left-1)//2\n",
    "\n",
    "def upper_bound_2(robots, minerals, bp, time_left):\n",
    "    ub = upper_bound_1(robots, minerals, bp, time_left)\n",
    "    \n",
    "    # unlike upper_bound_1, we don't assume infinite resources to build geode robots. We have to take\n",
    "    # into account how much obsidian we can rely (now assuming infinite resources to build those)\n",
    "    max_obsidian = minerals.obsidian + robots.obsidian * time_left + (time_left)*(time_left-1)//2\n",
    "    \n",
    "    # given that we have this max obsidian, the number of geode robots we can harvest may be smaller\n",
    "    max_geode_robots = ceil(max_obsidian / bp.geode.obsidian) \n",
    "    \n",
    "    # now, instead of computing the sum of the series time_left -> 0, we compute the sum \n",
    "    # from time_left -> (time_left - max_geode_robots)\n",
    "    if max_geode_robots < time_left:\n",
    "        ub = ub - (time_left - max_geode_robots)*(time_left-max_geode_robots+1) // 2\n",
    "        \n",
    "    return ub\n",
    "\n",
    "upper_bound = upper_bound_2"
   ]
  },
  {
   "cell_type": "code",
   "execution_count": 91,
   "id": "d6ce64f7-51c5-48fe-82c3-35cfe394c86b",
   "metadata": {},
   "outputs": [],
   "source": [
    "assert sum(range(10)) == 10*9//2"
   ]
  },
  {
   "cell_type": "code",
   "execution_count": 104,
   "id": "e503381d-ebdf-4c44-8c0e-bcb3fac8d1ab",
   "metadata": {},
   "outputs": [],
   "source": [
    "from collections import deque\n",
    "\n",
    "def solve(bp: BP, t=24):\n",
    "\n",
    "    best = 0\n",
    "    # state is a tuple of (robots, minerals, time_left)\n",
    "    todo = deque([(Amounts(ore=1), Amounts(), t)])\n",
    "    visited = {}    \n",
    "    state = None\n",
    "    it = 0\n",
    "    while todo:\n",
    "        it += 1\n",
    "        robots, minerals, time_left = state = todo.pop()\n",
    "        \n",
    "        lb = lower_bound(robots, minerals, bp, time_left)\n",
    "            \n",
    "        best = max(best, lb)\n",
    "        \n",
    "        vs = (robots, minerals)\n",
    "        if visited.get(vs,0) >= time_left:\n",
    "            continue\n",
    "        else:\n",
    "            visited[vs] = time_left\n",
    "            \n",
    "        if (it % 100_000 == 0): print(it, len(todo), len(visited), time_left, best)\n",
    "\n",
    "        if time_left == 0:\n",
    "            continue\n",
    "         \n",
    "        if upper_bound(robots, minerals, bp, time_left) <= best:\n",
    "            continue\n",
    "        \n",
    "        # add the do nothing move\n",
    "        todo.append((robots, minerals + robots, time_left - 1))\n",
    "        \n",
    "        for move in valid_moves(robots, minerals, bp):\n",
    "            new_state = (\n",
    "                robots + move,\n",
    "                minerals - minerals_spent_building_robots(move, bp) + robots,\n",
    "                time_left - 1\n",
    "            )\n",
    "            todo.append(new_state)\n",
    "\n",
    "        \n",
    "    return best"
   ]
  },
  {
   "cell_type": "code",
   "execution_count": 105,
   "id": "eeb8093a-8e50-4084-8ffc-b37962f6b004",
   "metadata": {},
   "outputs": [
    {
     "name": "stdout",
     "output_type": "stream",
     "text": [
      "100000 20 83584 5 10\n",
      "200000 19 150119 5 10\n",
      "300000 24 210037 4 10\n",
      "500000 20 317204 6 11\n",
      "700000 21 417405 7 11\n",
      "800000 18 472654 6 12\n",
      "900000 21 507882 6 12\n",
      "1300000 21 678223 7 15\n",
      "1500000 18 717692 6 15\n",
      "1600000 18 736003 6 15\n",
      "1700000 10 763385 11 15\n",
      "1800000 21 808768 6 15\n",
      "CPU times: user 27.6 s, sys: 58 ms, total: 27.7 s\n",
      "Wall time: 27.7 s\n"
     ]
    },
    {
     "data": {
      "text/plain": [
       "15"
      ]
     },
     "execution_count": 105,
     "metadata": {},
     "output_type": "execute_result"
    }
   ],
   "source": [
    "%time solve(bps[1])"
   ]
  },
  {
   "cell_type": "code",
   "execution_count": 106,
   "id": "f0e0aa0d-6204-4fe2-b507-61d4b4d71947",
   "metadata": {},
   "outputs": [
    {
     "data": {
      "text/plain": [
       "Blueprint(ore=Amounts(ore=4, clay=0, obsidian=0, geode=0), clay=Amounts(ore=4, clay=0, obsidian=0, geode=0), obsidian=Amounts(ore=4, clay=14, obsidian=0, geode=0), geode=Amounts(ore=2, clay=0, obsidian=16, geode=0))"
      ]
     },
     "execution_count": 106,
     "metadata": {},
     "output_type": "execute_result"
    }
   ],
   "source": [
    "bps[0]"
   ]
  },
  {
   "cell_type": "code",
   "execution_count": 107,
   "id": "3a697c23-3d31-44b4-983e-ced1dc2c566a",
   "metadata": {},
   "outputs": [
    {
     "data": {
      "text/plain": [
       "(2, 7)"
      ]
     },
     "execution_count": 107,
     "metadata": {},
     "output_type": "execute_result"
    }
   ],
   "source": [
    "2,7"
   ]
  },
  {
   "cell_type": "code",
   "execution_count": 108,
   "id": "4a6e5f46-fac1-4c0b-b0c2-919f146c5418",
   "metadata": {},
   "outputs": [
    {
     "data": {
      "application/vnd.jupyter.widget-view+json": {
       "model_id": "dfa4fd69ad1d4b80af496aec3cb731b3",
       "version_major": 2,
       "version_minor": 0
      },
      "text/plain": [
       "  0%|          | 0/30 [00:00<?, ?it/s]"
      ]
     },
     "metadata": {},
     "output_type": "display_data"
    },
    {
     "name": "stdout",
     "output_type": "stream",
     "text": [
      "100000 20 83584 5 10\n",
      "200000 19 150119 5 10\n",
      "300000 24 210037 4 10\n",
      "500000 20 317204 6 11\n",
      "700000 21 417405 7 11\n",
      "800000 18 472654 6 12\n",
      "900000 21 507882 6 12\n",
      "1300000 21 678223 7 15\n",
      "1500000 18 717692 6 15\n",
      "1600000 18 736003 6 15\n",
      "1700000 10 763385 11 15\n",
      "1800000 21 808768 6 15\n",
      "100000 17 65144 4 5\n",
      "100000 26 78503 1 4\n",
      "200000 24 141763 4 5\n",
      "300000 16 202704 6 5\n",
      "500000 26 308879 5 5\n",
      "600000 20 354264 4 5\n",
      "800000 14 456048 5 5\n",
      "1000000 36 549246 2 7\n",
      "1100000 26 587277 5 7\n",
      "1300000 14 635292 6 7\n",
      "1500000 26 727029 5 7\n",
      "1600000 29 762323 5 9\n",
      "1800000 25 805816 5 9\n",
      "1900000 23 816607 5 9\n",
      "2000000 14 830299 8 9\n",
      "2100000 8 849369 12 9\n",
      "2200000 22 890256 6 9\n",
      "200000 16 117743 5 2\n",
      "300000 16 166172 3 2\n",
      "500000 26 254726 4 3\n",
      "600000 10 278555 10 3\n",
      "800000 19 333609 5 4\n",
      "1000000 15 401693 7 4\n",
      "200000 20 119659 5 0\n",
      "100000 24 68411 2 2\n",
      "200000 19 123568 3 2\n",
      "300000 18 176564 3 2\n",
      "600000 17 317178 3 2\n",
      "100000 23 77164 8 8\n",
      "400000 18 255547 5 8\n",
      "600000 26 379413 4 8\n",
      "700000 25 429002 6 8\n",
      "800000 24 488234 5 8\n",
      "900000 22 553802 4 8\n",
      "1000000 25 608886 4 8\n",
      "1300000 23 728059 5 10\n",
      "1400000 31 745724 5 10\n",
      "1600000 23 831005 6 10\n",
      "100000 21 71155 5 1\n",
      "300000 17 191570 4 1\n",
      "400000 6 242607 13 1\n",
      "100000 15 63253 6 1\n",
      "200000 16 111385 3 1\n",
      "100000 28 74123 3 2\n",
      "300000 29 199254 4 2\n",
      "400000 22 251312 4 2\n",
      "700000 26 414316 6 2\n",
      "800000 30 465966 3 2\n",
      "1000000 26 581761 5 2\n",
      "1100000 21 629837 4 2\n",
      "1200000 21 676135 8 2\n",
      "1300000 14 722783 7 2\n",
      "1500000 17 834813 5 2\n",
      "1600000 20 882588 3 2\n",
      "1800000 17 965324 7 2\n",
      "2100000 31 1093205 4 2\n",
      "2200000 25 1123989 5 2\n",
      "2500000 16 1194900 3 2\n",
      "2800000 19 1309875 6 2\n",
      "3000000 32 1402476 4 2\n",
      "100000 30 67143 1 0\n",
      "100000 18 64667 2 0\n",
      "200000 19 117044 2 0\n",
      "300000 27 195562 4 1\n",
      "500000 31 309557 2 1\n",
      "600000 23 370313 6 1\n",
      "800000 21 470913 3 1\n",
      "1100000 32 635538 3 1\n",
      "1200000 17 673927 9 1\n",
      "1600000 25 836203 5 1\n",
      "1800000 33 897192 3 1\n",
      "1900000 8 925406 8 1\n",
      "2100000 9 1014440 9 1\n",
      "100000 18 74951 6 5\n",
      "200000 27 134894 5 5\n",
      "300000 23 188304 8 5\n",
      "400000 19 238273 7 5\n",
      "500000 14 294499 7 5\n",
      "600000 17 345818 5 5\n",
      "100000 9 56260 9 0\n",
      "200000 8 105885 7 0\n",
      "100000 16 73818 5 5\n",
      "200000 20 133021 7 5\n",
      "300000 14 188685 5 5\n",
      "400000 31 244799 2 5\n",
      "500000 21 300126 6 6\n",
      "700000 24 377370 5 6\n",
      "900000 16 453937 8 7\n",
      "100000 24 76218 5 6\n",
      "400000 18 248925 7 8\n",
      "600000 24 357941 5 8\n",
      "200000 16 128635 5 5\n",
      "200000 20 139190 4 0\n",
      "300000 30 200187 1 0\n",
      "100000 18 65875 2 0\n",
      "200000 18 115370 4 0\n",
      "300000 26 164780 2 0\n",
      "100000 16 68291 4 0\n",
      "100000 24 77926 4 5\n",
      "200000 21 142345 6 5\n",
      "300000 13 203289 8 5\n",
      "400000 17 260670 6 5\n",
      "500000 32 321023 4 5\n",
      "600000 23 385583 4 5\n",
      "800000 20 486494 5 5\n",
      "1500000 14 788477 8 7\n",
      "1600000 12 840107 8 7\n",
      "200000 15 120145 4 1\n",
      "300000 23 171540 3 1\n"
     ]
    }
   ],
   "source": [
    "from tqdm.notebook import tqdm\n",
    "def tenumerate(*args): return enumerate(tqdm(*args)) \n",
    "\n",
    "ans1 = sum((i+1)*solve(bp) for i,bp in tenumerate(bps))"
   ]
  },
  {
   "cell_type": "code",
   "execution_count": 109,
   "id": "1c913d77-e9be-4f4b-9a8e-0f1701609398",
   "metadata": {},
   "outputs": [
    {
     "data": {
      "text/plain": [
       "1150"
      ]
     },
     "execution_count": 109,
     "metadata": {},
     "output_type": "execute_result"
    }
   ],
   "source": [
    "ans1"
   ]
  }
 ],
 "metadata": {
  "kernelspec": {
   "display_name": "Python 3 (ipykernel)",
   "language": "python",
   "name": "python3"
  },
  "language_info": {
   "codemirror_mode": {
    "name": "ipython",
    "version": 3
   },
   "file_extension": ".py",
   "mimetype": "text/x-python",
   "name": "python",
   "nbconvert_exporter": "python",
   "pygments_lexer": "ipython3",
   "version": "3.8.15"
  }
 },
 "nbformat": 4,
 "nbformat_minor": 5
}
