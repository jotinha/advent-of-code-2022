{
 "cells": [
  {
   "cell_type": "code",
   "execution_count": 1,
   "id": "29df4989-31eb-4c49-a8ec-42100f343aa0",
   "metadata": {},
   "outputs": [],
   "source": [
    "import re\n",
    "from collections import namedtuple"
   ]
  },
  {
   "cell_type": "code",
   "execution_count": 2,
   "id": "188b2fc8-efc9-4a8e-ad13-76efac052a80",
   "metadata": {},
   "outputs": [],
   "source": [
    "from typing import NamedTuple"
   ]
  },
  {
   "cell_type": "code",
   "execution_count": 3,
   "id": "12300044-6e66-4ccb-8660-ccc499e1fc16",
   "metadata": {},
   "outputs": [],
   "source": [
    "import operator as op\n",
    "from functools import partial\n",
    "\n",
    "class Amounts(NamedTuple):\n",
    "    ore: int = 0\n",
    "    clay: int = 0\n",
    "    obsidian: int = 0\n",
    "    geode: int = 0\n",
    "    \n",
    "    def __add__(self, other: \"Amounts\"): return Amounts(*map(op.add,self,other))\n",
    "    def __sub__(self, other: \"Amounts\"): return Amounts(*map(op.sub,self,other))\n",
    "    def __mul__(self, other):\n",
    "        if isinstance(other, Amounts):\n",
    "            return Amounts(*map(op.mul,self,other))\n",
    "        else:\n",
    "            return Amounts(*map(partial(op.mul,other),self))\n",
    "            \n"
   ]
  },
  {
   "cell_type": "code",
   "execution_count": 4,
   "id": "72fd72b8-63ea-4699-b376-29a9fb215d80",
   "metadata": {},
   "outputs": [],
   "source": [
    "BP = namedtuple(\"Blueprint\", \"ore,clay,obsidian,geode\")"
   ]
  },
  {
   "cell_type": "code",
   "execution_count": 5,
   "id": "a496c133-0be0-4772-a43b-670b80f4f750",
   "metadata": {},
   "outputs": [
    {
     "data": {
      "text/plain": [
       "[Blueprint(ore=Amounts(ore=4, clay=0, obsidian=0, geode=0), clay=Amounts(ore=2, clay=0, obsidian=0, geode=0), obsidian=Amounts(ore=3, clay=14, obsidian=0, geode=0), geode=Amounts(ore=2, clay=0, obsidian=7, geode=0)),\n",
       " Blueprint(ore=Amounts(ore=2, clay=0, obsidian=0, geode=0), clay=Amounts(ore=3, clay=0, obsidian=0, geode=0), obsidian=Amounts(ore=3, clay=8, obsidian=0, geode=0), geode=Amounts(ore=3, clay=0, obsidian=12, geode=0))]"
      ]
     },
     "execution_count": 5,
     "metadata": {},
     "output_type": "execute_result"
    }
   ],
   "source": [
    "def parse(fname):\n",
    "    for line in open(fname):\n",
    "        if line.strip():\n",
    "            _,*ns= re.findall('[0-9]+', line)\n",
    "            ns = map(int,ns)\n",
    "            yield BP(ore=Amounts(ore=next(ns)), \n",
    "                               clay=Amounts(ore=next(ns)),\n",
    "                               obsidian=Amounts(ore=next(ns),clay=next(ns)),\n",
    "                                geode=Amounts(ore=next(ns),obsidian=next(ns)))\n",
    "            \n",
    "bps = list(parse(\"test\"))\n",
    "bps"
   ]
  },
  {
   "cell_type": "code",
   "execution_count": 6,
   "id": "a4f6e814-ff47-4dca-84c9-dceb2d4f3d7f",
   "metadata": {},
   "outputs": [
    {
     "name": "stdout",
     "output_type": "stream",
     "text": [
      "1 Amounts(ore=1, clay=0, obsidian=0, geode=0)\n",
      "2 Amounts(ore=2, clay=0, obsidian=0, geode=0)\n",
      "3 Amounts(ore=1, clay=0, obsidian=0, geode=0)\n",
      "4 Amounts(ore=2, clay=1, obsidian=0, geode=0)\n",
      "5 Amounts(ore=1, clay=2, obsidian=0, geode=0)\n",
      "6 Amounts(ore=2, clay=4, obsidian=0, geode=0)\n",
      "7 Amounts(ore=1, clay=6, obsidian=0, geode=0)\n",
      "8 Amounts(ore=2, clay=9, obsidian=0, geode=0)\n",
      "9 Amounts(ore=3, clay=12, obsidian=0, geode=0)\n",
      "10 Amounts(ore=4, clay=15, obsidian=0, geode=0)\n",
      "11 Amounts(ore=2, clay=4, obsidian=0, geode=0)\n",
      "12 Amounts(ore=1, clay=7, obsidian=1, geode=0)\n",
      "13 Amounts(ore=2, clay=11, obsidian=2, geode=0)\n",
      "14 Amounts(ore=3, clay=15, obsidian=3, geode=0)\n",
      "15 Amounts(ore=1, clay=5, obsidian=4, geode=0)\n",
      "16 Amounts(ore=2, clay=9, obsidian=6, geode=0)\n",
      "17 Amounts(ore=3, clay=13, obsidian=8, geode=0)\n",
      "18 Amounts(ore=2, clay=17, obsidian=3, geode=0)\n",
      "19 Amounts(ore=3, clay=21, obsidian=5, geode=1)\n",
      "20 Amounts(ore=4, clay=25, obsidian=7, geode=2)\n",
      "21 Amounts(ore=3, clay=29, obsidian=2, geode=3)\n",
      "22 Amounts(ore=4, clay=33, obsidian=4, geode=5)\n",
      "23 Amounts(ore=5, clay=37, obsidian=6, geode=7)\n",
      "24 Amounts(ore=6, clay=41, obsidian=8, geode=9)\n"
     ]
    },
    {
     "data": {
      "text/plain": [
       "Amounts(ore=6, clay=41, obsidian=8, geode=9)"
      ]
     },
     "execution_count": 6,
     "metadata": {},
     "output_type": "execute_result"
    }
   ],
   "source": [
    "def evaluate(moves: list, bp: BP, t=24):\n",
    "    minerals = Amounts()\n",
    "    robots = Amounts(ore=1)\n",
    "    breakpoint()\n",
    "    while t > 0:\n",
    "        #build robots\n",
    "        move = moves.pop(0) if len(moves) > 0 else None\n",
    "        if move:\n",
    "            for i in range(4):\n",
    "                minerals = minerals - bp[i]*move[i]\n",
    "            \n",
    "            if any(m < 0 for m in minerals):\n",
    "                raise ValueError(minerals)\n",
    "            \n",
    "            new_robots = robots + move\n",
    "            \n",
    "        #collect\n",
    "        minerals = minerals + robots\n",
    "        \n",
    "        #complete robots\n",
    "        if move:\n",
    "            robots = new_robots\n",
    "        \n",
    "        print(24-t+1,minerals)\n",
    "        t-=1\n",
    "    return minerals\n",
    "\n",
    "moves=[\n",
    "    None,None,Amounts(clay=1),\n",
    "    None,Amounts(clay=1),None,\n",
    "    Amounts(clay=1),None,None,\n",
    "    None,Amounts(obsidian=1),Amounts(clay=1),\n",
    "    None,None,Amounts(obsidian=1),\n",
    "    None,None,Amounts(geode=1),\n",
    "    None,None,Amounts(geode=1),\n",
    "    None,None,None\n",
    "]\n",
    "\n",
    "evaluate(moves,bps[0])"
   ]
  },
  {
   "cell_type": "code",
   "execution_count": 7,
   "id": "0fa74d4a-6313-4d2c-b461-b7aad84d3f1c",
   "metadata": {},
   "outputs": [],
   "source": [
    "def minerals_spent_building_robots(robots, bp):\n",
    "    minerals = Amounts()\n",
    "    for i in range(4):\n",
    "        minerals = minerals + bp[i]*robots[i]   \n",
    "    return minerals\n",
    "\n",
    "def can_build_robots(robots, minerals, bp):\n",
    "    minerals = minerals - minerals_spent_building_robots(robots,bp)\n",
    "    return all(m >= 0 for m in minerals)\n"
   ]
  },
  {
   "cell_type": "code",
   "execution_count": 8,
   "id": "2f3744e2-4592-4c7f-b576-7c2ed7b282ec",
   "metadata": {},
   "outputs": [
    {
     "data": {
      "text/plain": [
       "[[0, 1, 0, 0]]"
      ]
     },
     "execution_count": 8,
     "metadata": {},
     "output_type": "execute_result"
    }
   ],
   "source": [
    "\n",
    "def valid_moves(robots, minerals, bp):    \n",
    "    # just moves of one robot at a time for now\n",
    "    for i in range(4):\n",
    "        robot = [0,0,0,0]\n",
    "        robot[i] = 1\n",
    "        if can_build_robots(Amounts(*robot), minerals, bp):\n",
    "            yield robot\n",
    "\n",
    "list(valid_moves(Amounts(), Amounts(2),bps[0]))"
   ]
  },
  {
   "cell_type": "code",
   "execution_count": 68,
   "id": "f497e161-5767-46d4-9169-daa139132892",
   "metadata": {},
   "outputs": [],
   "source": [
    "def lower_bound(robots, minerals, bp, time_left):\n",
    "    return minerals.geode + robots.geode*time_left\n",
    "\n",
    "def upper_bound_1(robots, minerals, bp, time_left):\n",
    "    # assuming we can build one geode robot per round until time_left given infinite resources\n",
    "    # minerals.geode + robots.geode*time_left + (time_left-1) + (time_left-2) + (time_left -2) + ...\n",
    "    # the series sum(i for i in range(m)) can be simplified to (m-1)*m/2)\n",
    "    return minerals.geode + robots.geode*time_left + (time_left)*(time_left-1)//2\n",
    "\n",
    "\n",
    "\n",
    "upper_bound = upper_bound_1    "
   ]
  },
  {
   "cell_type": "code",
   "execution_count": 61,
   "id": "d6ce64f7-51c5-48fe-82c3-35cfe394c86b",
   "metadata": {},
   "outputs": [
    {
     "data": {
      "text/plain": [
       "True"
      ]
     },
     "execution_count": 61,
     "metadata": {},
     "output_type": "execute_result"
    }
   ],
   "source": [
    "assert sum(range(10)) == 10*9//2"
   ]
  },
  {
   "cell_type": "code",
   "execution_count": 71,
   "id": "e503381d-ebdf-4c44-8c0e-bcb3fac8d1ab",
   "metadata": {},
   "outputs": [],
   "source": [
    "from collections import deque\n",
    "\n",
    "def solve(bp: BP, t=24):\n",
    "\n",
    "    best = 0\n",
    "    # state is a tuple of (robots, minerals, time_left)\n",
    "    todo = deque([(Amounts(ore=1), Amounts(), t)])\n",
    "    visited = {}    \n",
    "    state = None\n",
    "    it = 0\n",
    "    while todo:\n",
    "        it += 1\n",
    "        robots, minerals, time_left = state = todo.pop()\n",
    "        \n",
    "        vs = (robots, minerals) \n",
    "        if vs in visited and visited[vs] >= time_left:\n",
    "            continue\n",
    "        else:\n",
    "            visited[vs] = time_left\n",
    "            \n",
    "        best = max(best,\n",
    "                   lower_bound(robots, minerals, bp, time_left))\n",
    "        \n",
    "        if (it % 100_000 == 0): print(it, len(todo), len(visited), time_left, best)\n",
    "\n",
    "        if time_left == 0:\n",
    "            continue\n",
    "        \n",
    "        if upper_bound(robots, minerals, bp, time_left) <= best:\n",
    "            continue\n",
    "        \n",
    "        # add the do nothing move\n",
    "        todo.append((robots, minerals + robots, time_left - 1))\n",
    "        \n",
    "        for move in valid_moves(robots, minerals, bp):\n",
    "            new_state = (\n",
    "                robots + move,\n",
    "                minerals - minerals_spent_building_robots(move, bp) + robots,\n",
    "                time_left - 1\n",
    "            )\n",
    "            todo.append(new_state)\n",
    "\n",
    "        \n",
    "    return best"
   ]
  },
  {
   "cell_type": "code",
   "execution_count": 72,
   "id": "eeb8093a-8e50-4084-8ffc-b37962f6b004",
   "metadata": {},
   "outputs": [
    {
     "name": "stdout",
     "output_type": "stream",
     "text": [
      "100000 27 84227 5 10\n",
      "300000 27 220137 5 10\n",
      "400000 22 280626 7 10\n",
      "500000 24 331817 5 10\n",
      "600000 19 392459 6 10\n",
      "700000 19 441147 6 10\n",
      "900000 14 543047 7 10\n",
      "1100000 22 677662 5 10\n",
      "1600000 18 936208 7 10\n",
      "1800000 18 1059150 8 10\n",
      "2100000 35 1204505 3 10\n",
      "2300000 25 1293580 5 10\n",
      "2900000 22 1500995 5 12\n",
      "3200000 16 1634331 6 12\n",
      "3300000 11 1684553 5 12\n",
      "3400000 19 1726547 8 12\n",
      "CPU times: user 48.3 s, sys: 192 ms, total: 48.5 s\n",
      "Wall time: 48.5 s\n"
     ]
    },
    {
     "data": {
      "text/plain": [
       "12"
      ]
     },
     "execution_count": 72,
     "metadata": {},
     "output_type": "execute_result"
    }
   ],
   "source": [
    "%time solve(bps[1])"
   ]
  },
  {
   "cell_type": "code",
   "execution_count": null,
   "id": "4a6e5f46-fac1-4c0b-b0c2-919f146c5418",
   "metadata": {},
   "outputs": [],
   "source": []
  }
 ],
 "metadata": {
  "kernelspec": {
   "display_name": "Python 3 (ipykernel)",
   "language": "python",
   "name": "python3"
  },
  "language_info": {
   "codemirror_mode": {
    "name": "ipython",
    "version": 3
   },
   "file_extension": ".py",
   "mimetype": "text/x-python",
   "name": "python",
   "nbconvert_exporter": "python",
   "pygments_lexer": "ipython3",
   "version": "3.8.15"
  }
 },
 "nbformat": 4,
 "nbformat_minor": 5
}
