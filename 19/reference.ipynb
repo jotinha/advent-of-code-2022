{
 "cells": [
  {
   "cell_type": "code",
   "execution_count": 6,
   "id": "29df4989-31eb-4c49-a8ec-42100f343aa0",
   "metadata": {},
   "outputs": [],
   "source": [
    "import re\n",
    "from collections import namedtuple"
   ]
  },
  {
   "cell_type": "code",
   "execution_count": 28,
   "id": "188b2fc8-efc9-4a8e-ad13-76efac052a80",
   "metadata": {},
   "outputs": [],
   "source": [
    "from typing import NamedTuple"
   ]
  },
  {
   "cell_type": "code",
   "execution_count": 83,
   "id": "12300044-6e66-4ccb-8660-ccc499e1fc16",
   "metadata": {},
   "outputs": [],
   "source": [
    "import operator as op\n",
    "from functools import partial\n",
    "\n",
    "class Amounts(NamedTuple):\n",
    "    ore: int = 0\n",
    "    clay: int = 0\n",
    "    obsidian: int = 0\n",
    "    geode: int = 0\n",
    "    \n",
    "    def __add__(self, other: Amounts): return Amounts(*map(op.add,self,other))\n",
    "    def __sub__(self, other: Amounts): return Amounts(*map(op.sub,self,other))\n",
    "    def __mul__(self, other):\n",
    "        if isinstance(other, Amounts):\n",
    "            return Amounts(*map(op.mul,self,other))\n",
    "        else:\n",
    "            return Amounts(*map(partial(op.mul,other),self))\n",
    "            \n"
   ]
  },
  {
   "cell_type": "code",
   "execution_count": 84,
   "id": "72fd72b8-63ea-4699-b376-29a9fb215d80",
   "metadata": {},
   "outputs": [],
   "source": [
    "BP = namedtuple(\"Blueprint\", \"ore,clay,obsidian,geode\")"
   ]
  },
  {
   "cell_type": "code",
   "execution_count": 85,
   "id": "a496c133-0be0-4772-a43b-670b80f4f750",
   "metadata": {},
   "outputs": [
    {
     "data": {
      "text/plain": [
       "[Blueprint(ore=Amounts(ore=4, clay=0, obsidian=0, geode=0), clay=Amounts(ore=2, clay=0, obsidian=0, geode=0), obsidian=Amounts(ore=3, clay=14, obsidian=0, geode=0), geode=Amounts(ore=2, clay=0, obsidian=7, geode=0)),\n",
       " Blueprint(ore=Amounts(ore=2, clay=0, obsidian=0, geode=0), clay=Amounts(ore=3, clay=0, obsidian=0, geode=0), obsidian=Amounts(ore=3, clay=8, obsidian=0, geode=0), geode=Amounts(ore=3, clay=0, obsidian=12, geode=0))]"
      ]
     },
     "execution_count": 85,
     "metadata": {},
     "output_type": "execute_result"
    }
   ],
   "source": [
    "def parse(fname):\n",
    "    for line in open(fname):\n",
    "        if line.strip():\n",
    "            _,*ns= re.findall('[0-9]+', line)\n",
    "            ns = map(int,ns)\n",
    "            yield BP(ore=Amounts(ore=next(ns)), \n",
    "                               clay=Amounts(ore=next(ns)),\n",
    "                               obsidian=Amounts(ore=next(ns),clay=next(ns)),\n",
    "                                geode=Amounts(ore=next(ns),obsidian=next(ns)))\n",
    "            \n",
    "bps = list(parse(\"test\"))\n",
    "bps"
   ]
  },
  {
   "cell_type": "code",
   "execution_count": 125,
   "id": "a4f6e814-ff47-4dca-84c9-dceb2d4f3d7f",
   "metadata": {},
   "outputs": [
    {
     "name": "stdout",
     "output_type": "stream",
     "text": [
      "1 Amounts(ore=1, clay=0, obsidian=0, geode=0)\n",
      "2 Amounts(ore=2, clay=0, obsidian=0, geode=0)\n",
      "3 Amounts(ore=1, clay=0, obsidian=0, geode=0)\n",
      "4 Amounts(ore=2, clay=1, obsidian=0, geode=0)\n",
      "5 Amounts(ore=1, clay=2, obsidian=0, geode=0)\n",
      "6 Amounts(ore=2, clay=4, obsidian=0, geode=0)\n",
      "7 Amounts(ore=1, clay=6, obsidian=0, geode=0)\n",
      "8 Amounts(ore=2, clay=9, obsidian=0, geode=0)\n",
      "9 Amounts(ore=3, clay=12, obsidian=0, geode=0)\n",
      "10 Amounts(ore=4, clay=15, obsidian=0, geode=0)\n",
      "11 Amounts(ore=2, clay=4, obsidian=0, geode=0)\n",
      "12 Amounts(ore=1, clay=7, obsidian=1, geode=0)\n",
      "13 Amounts(ore=2, clay=11, obsidian=2, geode=0)\n",
      "14 Amounts(ore=3, clay=15, obsidian=3, geode=0)\n",
      "15 Amounts(ore=1, clay=5, obsidian=4, geode=0)\n",
      "16 Amounts(ore=2, clay=9, obsidian=6, geode=0)\n",
      "17 Amounts(ore=3, clay=13, obsidian=8, geode=0)\n",
      "18 Amounts(ore=2, clay=17, obsidian=3, geode=0)\n",
      "19 Amounts(ore=3, clay=21, obsidian=5, geode=1)\n",
      "20 Amounts(ore=4, clay=25, obsidian=7, geode=2)\n",
      "21 Amounts(ore=3, clay=29, obsidian=2, geode=3)\n",
      "22 Amounts(ore=4, clay=33, obsidian=4, geode=5)\n",
      "23 Amounts(ore=5, clay=37, obsidian=6, geode=7)\n",
      "24 Amounts(ore=6, clay=41, obsidian=8, geode=9)\n"
     ]
    },
    {
     "data": {
      "text/plain": [
       "Amounts(ore=6, clay=41, obsidian=8, geode=9)"
      ]
     },
     "execution_count": 125,
     "metadata": {},
     "output_type": "execute_result"
    }
   ],
   "source": [
    "def evaluate(moves: list, bp: BP, t=24):\n",
    "    minerals = Amounts()\n",
    "    robots = Amounts(ore=1)\n",
    "    breakpoint()\n",
    "    while t > 0:\n",
    "        #build robots\n",
    "        move = moves.pop(0) if len(moves) > 0 else None\n",
    "        if move:\n",
    "            for i in range(4):\n",
    "                minerals = minerals - bp[i]*move[i]\n",
    "            \n",
    "            if any(m < 0 for m in minerals):\n",
    "                raise ValueError(minerals)\n",
    "            \n",
    "            new_robots = robots + move\n",
    "            \n",
    "        #collect\n",
    "        minerals = minerals + robots\n",
    "        \n",
    "        #complete robots\n",
    "        if move:\n",
    "            robots = new_robots\n",
    "        \n",
    "        print(24-t+1,minerals)\n",
    "        t-=1\n",
    "    return minerals\n",
    "\n",
    "moves=[\n",
    "    None,None,Amounts(clay=1),\n",
    "    None,Amounts(clay=1),None,\n",
    "    Amounts(clay=1),None,None,\n",
    "    None,Amounts(obsidian=1),Amounts(clay=1),\n",
    "    None,None,Amounts(obsidian=1),\n",
    "    None,None,Amounts(geode=1),\n",
    "    None,None,Amounts(geode=1),\n",
    "    None,None,None\n",
    "]\n",
    "\n",
    "evaluate(moves,bps[0])"
   ]
  }
 ],
 "metadata": {
  "kernelspec": {
   "display_name": "Python 3 (ipykernel)",
   "language": "python",
   "name": "python3"
  },
  "language_info": {
   "codemirror_mode": {
    "name": "ipython",
    "version": 3
   },
   "file_extension": ".py",
   "mimetype": "text/x-python",
   "name": "python",
   "nbconvert_exporter": "python",
   "pygments_lexer": "ipython3",
   "version": "3.8.15"
  }
 },
 "nbformat": 4,
 "nbformat_minor": 5
}
