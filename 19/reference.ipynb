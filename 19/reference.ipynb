{
 "cells": [
  {
   "cell_type": "code",
   "execution_count": 1,
   "id": "29df4989-31eb-4c49-a8ec-42100f343aa0",
   "metadata": {},
   "outputs": [],
   "source": [
    "import re\n",
    "from collections import namedtuple\n",
    "\n",
    "from tqdm.notebook import tqdm\n",
    "import operator as op\n",
    "from functools import partial\n",
    "from typing import NamedTuple\n",
    "from functools import reduce\n",
    "mul = partial(reduce,op.mul)\n",
    "assert mul(range(2,5)) == 24\n",
    "\n",
    "def tenumerate(*args): return enumerate(tqdm(*args)) \n",
    "\n",
    "\n",
    "def flip(f):\n",
    "    def inner(a,b): return f(b,a)\n",
    "    return inner"
   ]
  },
  {
   "cell_type": "code",
   "execution_count": 106,
   "id": "12300044-6e66-4ccb-8660-ccc499e1fc16",
   "metadata": {},
   "outputs": [],
   "source": [
    "\n",
    "class Amounts(NamedTuple):\n",
    "    ore: int = 0\n",
    "    clay: int = 0\n",
    "    obsidian: int = 0\n",
    "    geode: int = 0\n",
    "    \n",
    "    def _operate(self,other, operator):\n",
    "        if isinstance(other, Amounts):\n",
    "            return Amounts(*map(operator, self, other))\n",
    "        else:\n",
    "            return Amounts(*(operator(s,other) for s in self))\n",
    "    \n",
    "    def __add__(self, other): return self._operate(other,op.add)\n",
    "    def __sub__(self, other): return self._operate(other,op.sub)\n",
    "    def __mul__(self, other): return self._operate(other,op.mul)\n",
    "    def __rsub__(self, other): return self._operate(other,flip(op.sub))\n",
    "    def __truediv__(self, other): return self._operate(other,lambda a,b: 0 if a == 0 else INF if b == 0 else a/b)\n",
    "    def __floordiv__(self, other): return self._operate(other,lambda a,b: 0 if a == 0 else INF if b == 0 else a//b)\n",
    "\n",
    "INF = 1<<31"
   ]
  },
  {
   "cell_type": "code",
   "execution_count": 101,
   "id": "d7b33876-ec58-4e15-85a6-0cde20044702",
   "metadata": {},
   "outputs": [
    {
     "data": {
      "text/plain": [
       "Amounts(ore='inf', clay=0, obsidian=0, geode=0)"
      ]
     },
     "execution_count": 101,
     "metadata": {},
     "output_type": "execute_result"
    }
   ],
   "source": [
    "Amounts(1) // Amounts(0,3)"
   ]
  },
  {
   "cell_type": "code",
   "execution_count": 3,
   "id": "72fd72b8-63ea-4699-b376-29a9fb215d80",
   "metadata": {},
   "outputs": [],
   "source": [
    "BP = namedtuple(\"Blueprint\", \"ore,clay,obsidian,geode\")"
   ]
  },
  {
   "cell_type": "code",
   "execution_count": 4,
   "id": "a496c133-0be0-4772-a43b-670b80f4f750",
   "metadata": {},
   "outputs": [],
   "source": [
    "def parse(fname):\n",
    "    for line in open(fname):\n",
    "        if line.strip():\n",
    "            _,*ns= re.findall('[0-9]+', line)\n",
    "            ns = map(int,ns)\n",
    "            yield BP(ore=Amounts(ore=next(ns)), \n",
    "                               clay=Amounts(ore=next(ns)),\n",
    "                               obsidian=Amounts(ore=next(ns),clay=next(ns)),\n",
    "                                geode=Amounts(ore=next(ns),obsidian=next(ns)))\n",
    "            \n",
    "bps = list(parse(\"test\"))"
   ]
  },
  {
   "cell_type": "code",
   "execution_count": 5,
   "id": "a4f6e814-ff47-4dca-84c9-dceb2d4f3d7f",
   "metadata": {},
   "outputs": [],
   "source": [
    "def evaluate(moves: list, bp: BP, t=24):\n",
    "    minerals = Amounts()\n",
    "    robots = Amounts(ore=1)\n",
    "    breakpoint()\n",
    "    while t > 0:\n",
    "        #build robots\n",
    "        move = moves.pop(0) if len(moves) > 0 else None\n",
    "        if move:\n",
    "            for i in range(4):\n",
    "                minerals = minerals - bp[i]*move[i]\n",
    "            \n",
    "            if any(m < 0 for m in minerals):\n",
    "                raise ValueError(minerals)\n",
    "            \n",
    "            new_robots = robots + move\n",
    "            \n",
    "        #collect\n",
    "        minerals = minerals + robots\n",
    "        \n",
    "        #complete robots\n",
    "        if move:\n",
    "            robots = new_robots\n",
    "        \n",
    "        print(24-t+1,minerals)\n",
    "        t-=1\n",
    "    return minerals\n",
    "\n",
    "moves=[\n",
    "    None,None,Amounts(clay=1),\n",
    "    None,Amounts(clay=1),None,\n",
    "    Amounts(clay=1),None,None,\n",
    "    None,Amounts(obsidian=1),Amounts(clay=1),\n",
    "    None,None,Amounts(obsidian=1),\n",
    "    None,None,Amounts(geode=1),\n",
    "    None,None,Amounts(geode=1),\n",
    "    None,None,None\n",
    "]\n",
    "#evaluate(moves,bps[0])"
   ]
  },
  {
   "cell_type": "code",
   "execution_count": 6,
   "id": "0fa74d4a-6313-4d2c-b461-b7aad84d3f1c",
   "metadata": {},
   "outputs": [],
   "source": [
    "def minerals_spent_building_robots(robots, bp):\n",
    "    minerals = Amounts()\n",
    "    for i in range(4):\n",
    "        minerals = minerals + bp[i]*robots[i]   \n",
    "    return minerals\n",
    "\n",
    "def can_build_robots(robots, minerals, bp):\n",
    "    minerals = minerals - minerals_spent_building_robots(robots,bp)\n",
    "    return all(m >= 0 for m in minerals)\n"
   ]
  },
  {
   "cell_type": "code",
   "execution_count": 7,
   "id": "2f3744e2-4592-4c7f-b576-7c2ed7b282ec",
   "metadata": {},
   "outputs": [
    {
     "data": {
      "text/plain": [
       "[Amounts(ore=0, clay=1, obsidian=0, geode=0)]"
      ]
     },
     "execution_count": 7,
     "metadata": {},
     "output_type": "execute_result"
    }
   ],
   "source": [
    "def valid_moves(robots, minerals, bp):    \n",
    "    # just moves of one robot at a time for now\n",
    "    for i in range(4):\n",
    "        robot = [0,0,0,0]\n",
    "        robot[i] = 1\n",
    "        robot = Amounts(*robot)\n",
    "        if can_build_robots(robot, minerals, bp):\n",
    "            yield robot\n",
    "\n",
    "def useful_moves(robots, minerals, bp, time_left):\n",
    "    for move in valid_moves(robots, minerals, bp):\n",
    "        if is_useful_move(move, robots, minerals, bp, time_left):\n",
    "            yield move\n",
    "\n",
    "def is_useful_move(move, robots, minerals, bp, time_left):\n",
    "    if time_left == 1: # wont have time to reap the benefits\n",
    "        return False\n",
    "    elif time_left <= 3 and (move.ore or move.obsidian): # at -3 we build ore, at -2 we collect more ore, at -1 we build a geode robot, but we have no time to harvest more\n",
    "        return False\n",
    "    \n",
    "    \n",
    "    for i in range(3): # making a geode robot is always useful\n",
    "        if move[i] > 0:\n",
    "            # we dont need a move that make a robot if we have enough of that robot to replentish the mineral everytime\n",
    "            max_of_this_mineral_we_can_spend_in_a_move = max(r[i] for r in bp)\n",
    "            if robots[i] >= max_of_this_mineral_we_can_spend_in_a_move:\n",
    "                return False\n",
    "            \n",
    "            # we don't need to make a robot if we can't possibly spend the mineral we have/will have until the end\n",
    "            if (minerals[i] + robots[i]*time_left) > max_of_this_mineral_we_can_spend_in_a_move*time_left: # probably not quite right\n",
    "                return False\n",
    "            \n",
    "    return True\n",
    "            \n",
    "list(valid_moves(Amounts(), Amounts(2),bps[0]))"
   ]
  },
  {
   "cell_type": "code",
   "execution_count": 18,
   "id": "f497e161-5767-46d4-9169-daa139132892",
   "metadata": {},
   "outputs": [],
   "source": [
    "from math import ceil\n",
    "\n",
    "def lower_bound(robots, minerals, bp, time_left):\n",
    "    return minerals.geode + robots.geode*time_left\n",
    "\n",
    "def upper_bound_1(robots, minerals, bp, time_left):\n",
    "    # assuming we can build one geode robot per round until time_left given infinite resources\n",
    "    # minerals.geode + robots.geode*time_left + (time_left-1) + (time_left-2) + (time_left -2) + ...\n",
    "    # the series sum(i for i in range(m)) can be simplified to (m-1)*m/2)\n",
    "    return minerals.geode + robots.geode*time_left + (time_left)*(time_left-1)//2\n",
    "\n",
    "def upper_bound_2(robots, minerals, bp, time_left):\n",
    "    ub = upper_bound_1(robots, minerals, bp, time_left)\n",
    "    \n",
    "    # unlike upper_bound_1, we don't assume infinite resources to build geode robots. We have to take\n",
    "    # into account how much obsidian we can harevest (now assuming infinite resources to build obsidian bots)\n",
    "    max_obsidian = minerals.obsidian + robots.obsidian * time_left + (time_left)*(time_left-1)//2\n",
    "    \n",
    "    # given that we have this max obsidian, the number of geode robots we can harvest may be smaller\n",
    "    max_geode_robots = ceil(max_obsidian / bp.geode.obsidian) \n",
    "    \n",
    "    # now, instead of computing the sum of the series time_left -> 0, we compute the sum \n",
    "    # from time_left -> (time_left - max_geode_robots)\n",
    "    if max_geode_robots < time_left:\n",
    "        ub = ub - (time_left - max_geode_robots)*(time_left-max_geode_robots+1) // 2\n",
    "        \n",
    "    return ub\n",
    "\n",
    "upper_bound = upper_bound_1"
   ]
  },
  {
   "cell_type": "code",
   "execution_count": 120,
   "id": "e503381d-ebdf-4c44-8c0e-bcb3fac8d1ab",
   "metadata": {},
   "outputs": [],
   "source": [
    "from collections import deque\n",
    "\n",
    "def solve(bp: BP, t=24):\n",
    "\n",
    "    best = 0\n",
    "    # state is a tuple of (robots, minerals, time_left)\n",
    "    todo = deque([(Amounts(ore=1), Amounts(), t)])\n",
    "    visited = {}    \n",
    "    state = None\n",
    "    it = 0\n",
    "    while todo:\n",
    "        it += 1\n",
    "        robots, minerals, time_left = state = todo.pop()\n",
    "        \n",
    "        lb = lower_bound(robots, minerals, bp, time_left)\n",
    "            \n",
    "        best = max(best, lb)\n",
    "        \n",
    "        vs = (robots[:3], minerals[:3])\n",
    "        if visited.get(vs,-1) >= lb:\n",
    "            continue\n",
    "        else:\n",
    "            visited[vs] = lb\n",
    "            \n",
    "        if (it % 100_000 == 0): print(it, len(todo), len(visited), time_left, best)\n",
    "\n",
    "        if time_left == 0:\n",
    "            continue\n",
    "         \n",
    "        if upper_bound(robots, minerals, bp, time_left) <= best:\n",
    "            continue\n",
    "        \n",
    "        # add the do nothing move\n",
    "        todo.append((robots, minerals + robots, time_left - 1))\n",
    "\n",
    "        for move in useful_moves(robots, minerals, bp, time_left):\n",
    "            new_state = (\n",
    "                robots + move,\n",
    "                minerals - minerals_spent_building_robots(move, bp) + robots,\n",
    "                time_left - 1\n",
    "            )\n",
    "            todo.append(new_state)\n",
    "\n",
    "    print(f\"Got best result in {it} iterations\")\n",
    "    return best"
   ]
  },
  {
   "cell_type": "code",
   "execution_count": 121,
   "id": "eeb8093a-8e50-4084-8ffc-b37962f6b004",
   "metadata": {},
   "outputs": [
    {
     "name": "stdout",
     "output_type": "stream",
     "text": [
      "200000 8 134106 5 12\n",
      "Got best result in 224991 iterations\n"
     ]
    },
    {
     "data": {
      "text/plain": [
       "12"
      ]
     },
     "execution_count": 121,
     "metadata": {},
     "output_type": "execute_result"
    }
   ],
   "source": [
    "solve(bps[1])"
   ]
  },
  {
   "cell_type": "code",
   "execution_count": 47,
   "id": "4a6e5f46-fac1-4c0b-b0c2-919f146c5418",
   "metadata": {},
   "outputs": [
    {
     "data": {
      "application/vnd.jupyter.widget-view+json": {
       "model_id": "a9888454c1174765b4b63f285e78373b",
       "version_major": 2,
       "version_minor": 0
      },
      "text/plain": [
       "  0%|          | 0/30 [00:00<?, ?it/s]"
      ]
     },
     "metadata": {},
     "output_type": "display_data"
    },
    {
     "name": "stdout",
     "output_type": "stream",
     "text": [
      "Got best result in 11265 iterations\n",
      "Got best result in 93252 iterations\n",
      "Got best result in 63853 iterations\n",
      "Got best result in 36221 iterations\n",
      "100000 8 65731 13 7\n",
      "Got best result in 108188 iterations\n",
      "100000 21 72448 3 4\n",
      "Got best result in 126958 iterations\n",
      "Got best result in 21564 iterations\n",
      "Got best result in 39808 iterations\n",
      "Got best result in 22254 iterations\n",
      "Got best result in 10212 iterations\n",
      "Got best result in 106531 iterations\n",
      "Got best result in 134340 iterations\n",
      "Got best result in 74091 iterations\n",
      "Got best result in 64353 iterations\n",
      "Got best result in 8590 iterations\n",
      "100000 24 67658 5 2\n",
      "Got best result in 203725 iterations\n",
      "Got best result in 25083 iterations\n",
      "Got best result in 42537 iterations\n",
      "100000 12 69586 7 1\n",
      "Got best result in 113504 iterations\n",
      "Got best result in 96647 iterations\n",
      "Got best result in 20803 iterations\n",
      "100000 17 71663 5 7\n",
      "Got best result in 115750 iterations\n",
      "100000 14 72413 6 8\n",
      "Got best result in 141961 iterations\n",
      "Got best result in 60928 iterations\n",
      "100000 16 73628 4 1\n",
      "Got best result in 121542 iterations\n",
      "Got best result in 64345 iterations\n",
      "Got best result in 50747 iterations\n",
      "Got best result in 47589 iterations\n",
      "100000 13 69094 10 7\n",
      "Got best result in 131950 iterations\n",
      "Got best result in 65687 iterations\n"
     ]
    }
   ],
   "source": [
    "ans1 = sum((i+1)*solve(bp) for i,bp in tenumerate(bps))\n",
    "assert ans1 == 1150"
   ]
  },
  {
   "cell_type": "code",
   "execution_count": 21,
   "id": "06da2ddf-319c-404f-a13c-6850224e9d59",
   "metadata": {},
   "outputs": [
    {
     "data": {
      "application/vnd.jupyter.widget-view+json": {
       "model_id": "3e60d1d0bd5844588e9447cc18736f46",
       "version_major": 2,
       "version_minor": 0
      },
      "text/plain": [
       "  0%|          | 0/3 [00:00<?, ?it/s]"
      ]
     },
     "metadata": {},
     "output_type": "display_data"
    },
    {
     "name": "stdout",
     "output_type": "stream",
     "text": [
      "100000 17 75346 5 5\n",
      "200000 11 136220 7 5\n",
      "400000 22 261852 4 6\n",
      "Got best result in 645525 iterations\n",
      "100000 16 55041 11 56\n",
      "300000 11 142343 15 63\n",
      "400000 7 192576 19 69\n",
      "Got best result in 423544 iterations\n",
      "100000 12 64196 9 34\n",
      "200000 10 112639 8 34\n",
      "800000 6 397143 9 38\n",
      "Got best result in 886641 iterations\n"
     ]
    },
    {
     "data": {
      "text/plain": [
       "36498"
      ]
     },
     "execution_count": 21,
     "metadata": {},
     "output_type": "execute_result"
    }
   ],
   "source": [
    "ans2 = mul(solve(bp,t=32) for i,bp in tenumerate(bps[:3]))\n",
    "ans2"
   ]
  },
  {
   "cell_type": "markdown",
   "id": "efaa98f4-0426-4263-aa0d-d3196f244ed3",
   "metadata": {},
   "source": []
  },
  {
   "cell_type": "markdown",
   "id": "e57b9a42-4ced-47b4-95d8-835c5696bc55",
   "metadata": {},
   "source": [
    "Idea: usar A*\n",
    "\n",
    "https://www.reddit.com/r/adventofcode/comments/zpihwi/2022_day_19_solutions/j0tls7a/\n",
    "\n",
    "It is still an A* and not an \"explore every option\" algorithm.Once you have found a way to the final day with a final geode count higher than any upper bound of an unexplored node, you can obviously abort the search and be done.\n",
    "And since the upper bound of a final day node is its actual geode count, the fact that it was chosen for exploration proves that it is the best possible solution. (As the upper bound of any node can't be higher than its predecessors upper bound)\n",
    "\n",
    "There is no assumption here, this is just the core idea of A*.\n"
   ]
  },
  {
   "cell_type": "code",
   "execution_count": null,
   "id": "37444caf-0931-4ddd-b60f-922ddbbf7c7d",
   "metadata": {},
   "outputs": [],
   "source": []
  }
 ],
 "metadata": {
  "kernelspec": {
   "display_name": "Python 3 (ipykernel)",
   "language": "python",
   "name": "python3"
  },
  "language_info": {
   "codemirror_mode": {
    "name": "ipython",
    "version": 3
   },
   "file_extension": ".py",
   "mimetype": "text/x-python",
   "name": "python",
   "nbconvert_exporter": "python",
   "pygments_lexer": "ipython3",
   "version": "3.8.15"
  }
 },
 "nbformat": 4,
 "nbformat_minor": 5
}
