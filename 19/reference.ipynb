{
 "cells": [
  {
   "cell_type": "code",
   "execution_count": 6,
   "id": "29df4989-31eb-4c49-a8ec-42100f343aa0",
   "metadata": {},
   "outputs": [],
   "source": [
    "import re\n",
    "from collections import namedtuple"
   ]
  },
  {
   "cell_type": "code",
   "execution_count": 28,
   "id": "188b2fc8-efc9-4a8e-ad13-76efac052a80",
   "metadata": {},
   "outputs": [],
   "source": [
    "from typing import NamedTuple"
   ]
  },
  {
   "cell_type": "code",
   "execution_count": 83,
   "id": "12300044-6e66-4ccb-8660-ccc499e1fc16",
   "metadata": {},
   "outputs": [],
   "source": [
    "import operator as op\n",
    "from functools import partial\n",
    "\n",
    "class Amounts(NamedTuple):\n",
    "    ore: int = 0\n",
    "    clay: int = 0\n",
    "    obsidian: int = 0\n",
    "    geode: int = 0\n",
    "    \n",
    "    def __add__(self, other: Amounts): return Amounts(*map(op.add,self,other))\n",
    "    def __sub__(self, other: Amounts): return Amounts(*map(op.sub,self,other))\n",
    "    def __mul__(self, other):\n",
    "        if isinstance(other, Amounts):\n",
    "            return Amounts(*map(op.mul,self,other))\n",
    "        else:\n",
    "            return Amounts(*map(partial(op.mul,other),self))\n",
    "            \n"
   ]
  },
  {
   "cell_type": "code",
   "execution_count": 84,
   "id": "72fd72b8-63ea-4699-b376-29a9fb215d80",
   "metadata": {},
   "outputs": [],
   "source": [
    "BP = namedtuple(\"Blueprint\", \"ore,clay,obsidian,geode\")"
   ]
  },
  {
   "cell_type": "code",
   "execution_count": 85,
   "id": "a496c133-0be0-4772-a43b-670b80f4f750",
   "metadata": {},
   "outputs": [
    {
     "data": {
      "text/plain": [
       "[Blueprint(ore=Amounts(ore=4, clay=0, obsidian=0, geode=0), clay=Amounts(ore=2, clay=0, obsidian=0, geode=0), obsidian=Amounts(ore=3, clay=14, obsidian=0, geode=0), geode=Amounts(ore=2, clay=0, obsidian=7, geode=0)),\n",
       " Blueprint(ore=Amounts(ore=2, clay=0, obsidian=0, geode=0), clay=Amounts(ore=3, clay=0, obsidian=0, geode=0), obsidian=Amounts(ore=3, clay=8, obsidian=0, geode=0), geode=Amounts(ore=3, clay=0, obsidian=12, geode=0))]"
      ]
     },
     "execution_count": 85,
     "metadata": {},
     "output_type": "execute_result"
    }
   ],
   "source": [
    "def parse(fname):\n",
    "    for line in open(fname):\n",
    "        if line.strip():\n",
    "            _,*ns= re.findall('[0-9]+', line)\n",
    "            ns = map(int,ns)\n",
    "            yield BP(ore=Amounts(ore=next(ns)), \n",
    "                               clay=Amounts(ore=next(ns)),\n",
    "                               obsidian=Amounts(ore=next(ns),clay=next(ns)),\n",
    "                                geode=Amounts(ore=next(ns),obsidian=next(ns)))\n",
    "            \n",
    "bps = list(parse(\"test\"))\n",
    "bps"
   ]
  },
  {
   "cell_type": "code",
   "execution_count": 125,
   "id": "a4f6e814-ff47-4dca-84c9-dceb2d4f3d7f",
   "metadata": {},
   "outputs": [
    {
     "name": "stdout",
     "output_type": "stream",
     "text": [
      "1 Amounts(ore=1, clay=0, obsidian=0, geode=0)\n",
      "2 Amounts(ore=2, clay=0, obsidian=0, geode=0)\n",
      "3 Amounts(ore=1, clay=0, obsidian=0, geode=0)\n",
      "4 Amounts(ore=2, clay=1, obsidian=0, geode=0)\n",
      "5 Amounts(ore=1, clay=2, obsidian=0, geode=0)\n",
      "6 Amounts(ore=2, clay=4, obsidian=0, geode=0)\n",
      "7 Amounts(ore=1, clay=6, obsidian=0, geode=0)\n",
      "8 Amounts(ore=2, clay=9, obsidian=0, geode=0)\n",
      "9 Amounts(ore=3, clay=12, obsidian=0, geode=0)\n",
      "10 Amounts(ore=4, clay=15, obsidian=0, geode=0)\n",
      "11 Amounts(ore=2, clay=4, obsidian=0, geode=0)\n",
      "12 Amounts(ore=1, clay=7, obsidian=1, geode=0)\n",
      "13 Amounts(ore=2, clay=11, obsidian=2, geode=0)\n",
      "14 Amounts(ore=3, clay=15, obsidian=3, geode=0)\n",
      "15 Amounts(ore=1, clay=5, obsidian=4, geode=0)\n",
      "16 Amounts(ore=2, clay=9, obsidian=6, geode=0)\n",
      "17 Amounts(ore=3, clay=13, obsidian=8, geode=0)\n",
      "18 Amounts(ore=2, clay=17, obsidian=3, geode=0)\n",
      "19 Amounts(ore=3, clay=21, obsidian=5, geode=1)\n",
      "20 Amounts(ore=4, clay=25, obsidian=7, geode=2)\n",
      "21 Amounts(ore=3, clay=29, obsidian=2, geode=3)\n",
      "22 Amounts(ore=4, clay=33, obsidian=4, geode=5)\n",
      "23 Amounts(ore=5, clay=37, obsidian=6, geode=7)\n",
      "24 Amounts(ore=6, clay=41, obsidian=8, geode=9)\n"
     ]
    },
    {
     "data": {
      "text/plain": [
       "Amounts(ore=6, clay=41, obsidian=8, geode=9)"
      ]
     },
     "execution_count": 125,
     "metadata": {},
     "output_type": "execute_result"
    }
   ],
   "source": [
    "def evaluate(moves: list, bp: BP, t=24):\n",
    "    minerals = Amounts()\n",
    "    robots = Amounts(ore=1)\n",
    "    breakpoint()\n",
    "    while t > 0:\n",
    "        #build robots\n",
    "        move = moves.pop(0) if len(moves) > 0 else None\n",
    "        if move:\n",
    "            for i in range(4):\n",
    "                minerals = minerals - bp[i]*move[i]\n",
    "            \n",
    "            if any(m < 0 for m in minerals):\n",
    "                raise ValueError(minerals)\n",
    "            \n",
    "            new_robots = robots + move\n",
    "            \n",
    "        #collect\n",
    "        minerals = minerals + robots\n",
    "        \n",
    "        #complete robots\n",
    "        if move:\n",
    "            robots = new_robots\n",
    "        \n",
    "        print(24-t+1,minerals)\n",
    "        t-=1\n",
    "    return minerals\n",
    "\n",
    "moves=[\n",
    "    None,None,Amounts(clay=1),\n",
    "    None,Amounts(clay=1),None,\n",
    "    Amounts(clay=1),None,None,\n",
    "    None,Amounts(obsidian=1),Amounts(clay=1),\n",
    "    None,None,Amounts(obsidian=1),\n",
    "    None,None,Amounts(geode=1),\n",
    "    None,None,Amounts(geode=1),\n",
    "    None,None,None\n",
    "]\n",
    "\n",
    "evaluate(moves,bps[0])"
   ]
  },
  {
   "cell_type": "code",
   "execution_count": 179,
   "id": "0fa74d4a-6313-4d2c-b461-b7aad84d3f1c",
   "metadata": {},
   "outputs": [],
   "source": [
    "def minerals_spent_building_robots(robots, bp):\n",
    "    minerals = Amounts()\n",
    "    for i in range(4):\n",
    "        minerals = minerals + bp[i]*robots[i]   \n",
    "    return minerals\n",
    "\n",
    "def can_build_robots(robots, minerals, bp):\n",
    "    minerals = minerals - minerals_spent_building_robots(robots,bp)\n",
    "    return all(m >= 0 for m in minerals)\n"
   ]
  },
  {
   "cell_type": "code",
   "execution_count": 184,
   "id": "915e86fc-92c7-4c44-a07f-b9eb71368a11",
   "metadata": {},
   "outputs": [
    {
     "data": {
      "text/plain": [
       "True"
      ]
     },
     "execution_count": 184,
     "metadata": {},
     "output_type": "execute_result"
    }
   ],
   "source": [
    "can_build_robots(Amounts(1,0),Amounts(4),bps[0])"
   ]
  },
  {
   "cell_type": "code",
   "execution_count": 185,
   "id": "2f3744e2-4592-4c7f-b576-7c2ed7b282ec",
   "metadata": {},
   "outputs": [
    {
     "data": {
      "text/plain": [
       "[[0, 1, 0, 0]]"
      ]
     },
     "execution_count": 185,
     "metadata": {},
     "output_type": "execute_result"
    }
   ],
   "source": [
    "\n",
    "def valid_moves(robots, minerals, bp):    \n",
    "    # just moves of one robot at a time for now\n",
    "    for i in range(4):\n",
    "        robot = [0,0,0,0]\n",
    "        robot[i] = 1\n",
    "        if can_build_robots(Amounts(*robot), minerals,bp):\n",
    "            yield robot\n",
    "\n",
    "list(valid_moves(Amounts(), Amounts(2),bps[0]))"
   ]
  },
  {
   "cell_type": "code",
   "execution_count": 224,
   "id": "e503381d-ebdf-4c44-8c0e-bcb3fac8d1ab",
   "metadata": {},
   "outputs": [],
   "source": [
    "from collections import deque\n",
    "\n",
    "def solve(bp: BP, t=24):\n",
    "\n",
    "    best = 0\n",
    "    # state is a tuple of (robots, minerals, time_left)\n",
    "    todo = deque([(Amounts(ore=1), Amounts(), t)])\n",
    "    solutions = {}    \n",
    "    \n",
    "    it = 0\n",
    "    while todo:\n",
    "        it += 1\n",
    "        robots, minerals, time_left = state = todo.popleft()\n",
    "        \n",
    "        if solutions.get(state,0) > minerals.geode: # TODO: the solution space is too big, we have to remove t\n",
    "            print(\"hit a dead branch\")\n",
    "            continue # no worth pursuing this, we got better from a different path\n",
    "        else:\n",
    "            solutions[state] = minerals.geode\n",
    "            \n",
    "        best = max(best, minerals.geode)\n",
    "        \n",
    "        if (it % 100_000 == 0): print(it, len(todo), len(solutions), time_left, best)\n",
    "\n",
    "        if time_left == 0:\n",
    "            continue\n",
    " \n",
    "        for move in valid_moves(robots, minerals, bp):\n",
    "            new_state = (\n",
    "                robots + move,\n",
    "                minerals - minerals_spent_building_robots(move, bp) + robots,\n",
    "                time_left - 1\n",
    "            )\n",
    "            todo.append(new_state)\n",
    "            \n",
    "        \n",
    "        # also add the do nothing move\n",
    "        todo.append((robots, minerals + robots, time_left - 1))\n",
    "        \n",
    "    return minerals"
   ]
  },
  {
   "cell_type": "code",
   "execution_count": 225,
   "id": "eeb8093a-8e50-4084-8ffc-b37962f6b004",
   "metadata": {},
   "outputs": [
    {
     "name": "stdout",
     "output_type": "stream",
     "text": [
      "100000 223231 20996 8 0\n",
      "200000 467146 30923 8 0\n",
      "300000 708247 41440 7 0\n",
      "400000 962651 54526 7 0\n",
      "500000 1220477 60604 7 0\n",
      "600000 1476957 68782 7 0\n",
      "700000 1738202 70131 7 0\n",
      "800000 1994631 71253 7 0\n",
      "900000 2248283 72518 7 0\n",
      "1000000 2496190 92816 6 0\n",
      "1100000 2761049 109809 6 0\n",
      "1200000 3027705 116020 6 0\n",
      "1300000 3292544 120553 6 0\n",
      "1400000 3544317 123393 6 0\n",
      "1500000 3812317 124189 6 0\n",
      "1600000 4080825 124622 6 0\n"
     ]
    },
    {
     "ename": "KeyboardInterrupt",
     "evalue": "",
     "output_type": "error",
     "traceback": [
      "\u001b[0;31m---------------------------------------------------------------------------\u001b[0m",
      "\u001b[0;31mKeyboardInterrupt\u001b[0m                         Traceback (most recent call last)",
      "Cell \u001b[0;32mIn[225], line 1\u001b[0m\n\u001b[0;32m----> 1\u001b[0m \u001b[43msolve\u001b[49m\u001b[43m(\u001b[49m\u001b[43mbps\u001b[49m\u001b[43m[\u001b[49m\u001b[38;5;241;43m0\u001b[39;49m\u001b[43m]\u001b[49m\u001b[43m)\u001b[49m\n",
      "Cell \u001b[0;32mIn[224], line 31\u001b[0m, in \u001b[0;36msolve\u001b[0;34m(bp, t)\u001b[0m\n\u001b[1;32m     26\u001b[0m     \u001b[38;5;28;01mcontinue\u001b[39;00m\n\u001b[1;32m     28\u001b[0m \u001b[38;5;28;01mfor\u001b[39;00m move \u001b[38;5;129;01min\u001b[39;00m valid_moves(robots, minerals, bp):\n\u001b[1;32m     29\u001b[0m     new_state \u001b[38;5;241m=\u001b[39m (\n\u001b[1;32m     30\u001b[0m         robots \u001b[38;5;241m+\u001b[39m move,\n\u001b[0;32m---> 31\u001b[0m         \u001b[43mminerals\u001b[49m\u001b[43m \u001b[49m\u001b[38;5;241;43m-\u001b[39;49m\u001b[43m \u001b[49m\u001b[43mminerals_spent_building_robots\u001b[49m\u001b[43m(\u001b[49m\u001b[43mmove\u001b[49m\u001b[43m,\u001b[49m\u001b[43m \u001b[49m\u001b[43mbp\u001b[49m\u001b[43m)\u001b[49m \u001b[38;5;241m+\u001b[39m robots,\n\u001b[1;32m     32\u001b[0m         time_left \u001b[38;5;241m-\u001b[39m \u001b[38;5;241m1\u001b[39m\n\u001b[1;32m     33\u001b[0m     )\n\u001b[1;32m     34\u001b[0m     todo\u001b[38;5;241m.\u001b[39mappend(new_state)\n\u001b[1;32m     37\u001b[0m \u001b[38;5;66;03m# also add the do nothing move\u001b[39;00m\n",
      "Cell \u001b[0;32mIn[83], line 11\u001b[0m, in \u001b[0;36mAmounts.__sub__\u001b[0;34m(self, other)\u001b[0m\n\u001b[0;32m---> 11\u001b[0m \u001b[38;5;28;01mdef\u001b[39;00m \u001b[38;5;21m__sub__\u001b[39m(\u001b[38;5;28mself\u001b[39m, other: Amounts): \u001b[38;5;28;01mreturn\u001b[39;00m \u001b[43mAmounts\u001b[49m\u001b[43m(\u001b[49m\u001b[38;5;241;43m*\u001b[39;49m\u001b[38;5;28;43mmap\u001b[39;49m\u001b[43m(\u001b[49m\u001b[43mop\u001b[49m\u001b[38;5;241;43m.\u001b[39;49m\u001b[43msub\u001b[49m\u001b[43m,\u001b[49m\u001b[38;5;28;43mself\u001b[39;49m\u001b[43m,\u001b[49m\u001b[43mother\u001b[49m\u001b[43m)\u001b[49m\u001b[43m)\u001b[49m\n",
      "File \u001b[0;32m<string>:1\u001b[0m, in \u001b[0;36m__new__\u001b[0;34m(_cls, ore, clay, obsidian, geode)\u001b[0m\n",
      "\u001b[0;31mKeyboardInterrupt\u001b[0m: "
     ]
    }
   ],
   "source": [
    "solve(bps[0])"
   ]
  },
  {
   "cell_type": "code",
   "execution_count": null,
   "id": "a5190333-680f-44a3-8d2d-8bf98552e76c",
   "metadata": {},
   "outputs": [],
   "source": []
  }
 ],
 "metadata": {
  "kernelspec": {
   "display_name": "Python 3 (ipykernel)",
   "language": "python",
   "name": "python3"
  },
  "language_info": {
   "codemirror_mode": {
    "name": "ipython",
    "version": 3
   },
   "file_extension": ".py",
   "mimetype": "text/x-python",
   "name": "python",
   "nbconvert_exporter": "python",
   "pygments_lexer": "ipython3",
   "version": "3.8.15"
  }
 },
 "nbformat": 4,
 "nbformat_minor": 5
}
